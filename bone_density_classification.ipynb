{
  "nbformat": 4,
  "nbformat_minor": 0,
  "metadata": {
    "colab": {
      "provenance": [],
      "gpuType": "T4"
    },
    "kernelspec": {
      "name": "python3",
      "display_name": "Python 3"
    },
    "language_info": {
      "name": "python"
    },
    "accelerator": "GPU",
    "widgets": {
      "application/vnd.jupyter.widget-state+json": {
        "e1dd905f33894cdda31129da60d7b9c3": {
          "model_module": "@jupyter-widgets/controls",
          "model_name": "HBoxModel",
          "model_module_version": "1.5.0",
          "state": {
            "_dom_classes": [],
            "_model_module": "@jupyter-widgets/controls",
            "_model_module_version": "1.5.0",
            "_model_name": "HBoxModel",
            "_view_count": null,
            "_view_module": "@jupyter-widgets/controls",
            "_view_module_version": "1.5.0",
            "_view_name": "HBoxView",
            "box_style": "",
            "children": [
              "IPY_MODEL_4eda60446b28418fb73cdb32666ab603",
              "IPY_MODEL_420e1861c14c42fbb4ea327e729b7ba0",
              "IPY_MODEL_bec5712a49f04834b5437b12f922eb7b"
            ],
            "layout": "IPY_MODEL_bd5d6c1add614cf6ba649972b912a3c3"
          }
        },
        "4eda60446b28418fb73cdb32666ab603": {
          "model_module": "@jupyter-widgets/controls",
          "model_name": "HTMLModel",
          "model_module_version": "1.5.0",
          "state": {
            "_dom_classes": [],
            "_model_module": "@jupyter-widgets/controls",
            "_model_module_version": "1.5.0",
            "_model_name": "HTMLModel",
            "_view_count": null,
            "_view_module": "@jupyter-widgets/controls",
            "_view_module_version": "1.5.0",
            "_view_name": "HTMLView",
            "description": "",
            "description_tooltip": null,
            "layout": "IPY_MODEL_a7351c3a16ae4d0f977f3c7a5d3ac996",
            "placeholder": "​",
            "style": "IPY_MODEL_feddb6756b0a4241ab0ce31ba8690ea8",
            "value": "model.safetensors: 100%"
          }
        },
        "420e1861c14c42fbb4ea327e729b7ba0": {
          "model_module": "@jupyter-widgets/controls",
          "model_name": "FloatProgressModel",
          "model_module_version": "1.5.0",
          "state": {
            "_dom_classes": [],
            "_model_module": "@jupyter-widgets/controls",
            "_model_module_version": "1.5.0",
            "_model_name": "FloatProgressModel",
            "_view_count": null,
            "_view_module": "@jupyter-widgets/controls",
            "_view_module_version": "1.5.0",
            "_view_name": "ProgressView",
            "bar_style": "success",
            "description": "",
            "description_tooltip": null,
            "layout": "IPY_MODEL_3f19560a58784a81ae962e1e8cb89848",
            "max": 77933206,
            "min": 0,
            "orientation": "horizontal",
            "style": "IPY_MODEL_ea6efe6780fe401ca38898fb53663690",
            "value": 77933206
          }
        },
        "bec5712a49f04834b5437b12f922eb7b": {
          "model_module": "@jupyter-widgets/controls",
          "model_name": "HTMLModel",
          "model_module_version": "1.5.0",
          "state": {
            "_dom_classes": [],
            "_model_module": "@jupyter-widgets/controls",
            "_model_module_version": "1.5.0",
            "_model_name": "HTMLModel",
            "_view_count": null,
            "_view_module": "@jupyter-widgets/controls",
            "_view_module_version": "1.5.0",
            "_view_name": "HTMLView",
            "description": "",
            "description_tooltip": null,
            "layout": "IPY_MODEL_ceeff8f0d5eb4addaf51e7c34abac4fe",
            "placeholder": "​",
            "style": "IPY_MODEL_365417e235ed4d88a720cfe4fabd43b6",
            "value": " 77.9M/77.9M [00:00&lt;00:00, 162MB/s]"
          }
        },
        "bd5d6c1add614cf6ba649972b912a3c3": {
          "model_module": "@jupyter-widgets/base",
          "model_name": "LayoutModel",
          "model_module_version": "1.2.0",
          "state": {
            "_model_module": "@jupyter-widgets/base",
            "_model_module_version": "1.2.0",
            "_model_name": "LayoutModel",
            "_view_count": null,
            "_view_module": "@jupyter-widgets/base",
            "_view_module_version": "1.2.0",
            "_view_name": "LayoutView",
            "align_content": null,
            "align_items": null,
            "align_self": null,
            "border": null,
            "bottom": null,
            "display": null,
            "flex": null,
            "flex_flow": null,
            "grid_area": null,
            "grid_auto_columns": null,
            "grid_auto_flow": null,
            "grid_auto_rows": null,
            "grid_column": null,
            "grid_gap": null,
            "grid_row": null,
            "grid_template_areas": null,
            "grid_template_columns": null,
            "grid_template_rows": null,
            "height": null,
            "justify_content": null,
            "justify_items": null,
            "left": null,
            "margin": null,
            "max_height": null,
            "max_width": null,
            "min_height": null,
            "min_width": null,
            "object_fit": null,
            "object_position": null,
            "order": null,
            "overflow": null,
            "overflow_x": null,
            "overflow_y": null,
            "padding": null,
            "right": null,
            "top": null,
            "visibility": null,
            "width": null
          }
        },
        "a7351c3a16ae4d0f977f3c7a5d3ac996": {
          "model_module": "@jupyter-widgets/base",
          "model_name": "LayoutModel",
          "model_module_version": "1.2.0",
          "state": {
            "_model_module": "@jupyter-widgets/base",
            "_model_module_version": "1.2.0",
            "_model_name": "LayoutModel",
            "_view_count": null,
            "_view_module": "@jupyter-widgets/base",
            "_view_module_version": "1.2.0",
            "_view_name": "LayoutView",
            "align_content": null,
            "align_items": null,
            "align_self": null,
            "border": null,
            "bottom": null,
            "display": null,
            "flex": null,
            "flex_flow": null,
            "grid_area": null,
            "grid_auto_columns": null,
            "grid_auto_flow": null,
            "grid_auto_rows": null,
            "grid_column": null,
            "grid_gap": null,
            "grid_row": null,
            "grid_template_areas": null,
            "grid_template_columns": null,
            "grid_template_rows": null,
            "height": null,
            "justify_content": null,
            "justify_items": null,
            "left": null,
            "margin": null,
            "max_height": null,
            "max_width": null,
            "min_height": null,
            "min_width": null,
            "object_fit": null,
            "object_position": null,
            "order": null,
            "overflow": null,
            "overflow_x": null,
            "overflow_y": null,
            "padding": null,
            "right": null,
            "top": null,
            "visibility": null,
            "width": null
          }
        },
        "feddb6756b0a4241ab0ce31ba8690ea8": {
          "model_module": "@jupyter-widgets/controls",
          "model_name": "DescriptionStyleModel",
          "model_module_version": "1.5.0",
          "state": {
            "_model_module": "@jupyter-widgets/controls",
            "_model_module_version": "1.5.0",
            "_model_name": "DescriptionStyleModel",
            "_view_count": null,
            "_view_module": "@jupyter-widgets/base",
            "_view_module_version": "1.2.0",
            "_view_name": "StyleView",
            "description_width": ""
          }
        },
        "3f19560a58784a81ae962e1e8cb89848": {
          "model_module": "@jupyter-widgets/base",
          "model_name": "LayoutModel",
          "model_module_version": "1.2.0",
          "state": {
            "_model_module": "@jupyter-widgets/base",
            "_model_module_version": "1.2.0",
            "_model_name": "LayoutModel",
            "_view_count": null,
            "_view_module": "@jupyter-widgets/base",
            "_view_module_version": "1.2.0",
            "_view_name": "LayoutView",
            "align_content": null,
            "align_items": null,
            "align_self": null,
            "border": null,
            "bottom": null,
            "display": null,
            "flex": null,
            "flex_flow": null,
            "grid_area": null,
            "grid_auto_columns": null,
            "grid_auto_flow": null,
            "grid_auto_rows": null,
            "grid_column": null,
            "grid_gap": null,
            "grid_row": null,
            "grid_template_areas": null,
            "grid_template_columns": null,
            "grid_template_rows": null,
            "height": null,
            "justify_content": null,
            "justify_items": null,
            "left": null,
            "margin": null,
            "max_height": null,
            "max_width": null,
            "min_height": null,
            "min_width": null,
            "object_fit": null,
            "object_position": null,
            "order": null,
            "overflow": null,
            "overflow_x": null,
            "overflow_y": null,
            "padding": null,
            "right": null,
            "top": null,
            "visibility": null,
            "width": null
          }
        },
        "ea6efe6780fe401ca38898fb53663690": {
          "model_module": "@jupyter-widgets/controls",
          "model_name": "ProgressStyleModel",
          "model_module_version": "1.5.0",
          "state": {
            "_model_module": "@jupyter-widgets/controls",
            "_model_module_version": "1.5.0",
            "_model_name": "ProgressStyleModel",
            "_view_count": null,
            "_view_module": "@jupyter-widgets/base",
            "_view_module_version": "1.2.0",
            "_view_name": "StyleView",
            "bar_color": null,
            "description_width": ""
          }
        },
        "ceeff8f0d5eb4addaf51e7c34abac4fe": {
          "model_module": "@jupyter-widgets/base",
          "model_name": "LayoutModel",
          "model_module_version": "1.2.0",
          "state": {
            "_model_module": "@jupyter-widgets/base",
            "_model_module_version": "1.2.0",
            "_model_name": "LayoutModel",
            "_view_count": null,
            "_view_module": "@jupyter-widgets/base",
            "_view_module_version": "1.2.0",
            "_view_name": "LayoutView",
            "align_content": null,
            "align_items": null,
            "align_self": null,
            "border": null,
            "bottom": null,
            "display": null,
            "flex": null,
            "flex_flow": null,
            "grid_area": null,
            "grid_auto_columns": null,
            "grid_auto_flow": null,
            "grid_auto_rows": null,
            "grid_column": null,
            "grid_gap": null,
            "grid_row": null,
            "grid_template_areas": null,
            "grid_template_columns": null,
            "grid_template_rows": null,
            "height": null,
            "justify_content": null,
            "justify_items": null,
            "left": null,
            "margin": null,
            "max_height": null,
            "max_width": null,
            "min_height": null,
            "min_width": null,
            "object_fit": null,
            "object_position": null,
            "order": null,
            "overflow": null,
            "overflow_x": null,
            "overflow_y": null,
            "padding": null,
            "right": null,
            "top": null,
            "visibility": null,
            "width": null
          }
        },
        "365417e235ed4d88a720cfe4fabd43b6": {
          "model_module": "@jupyter-widgets/controls",
          "model_name": "DescriptionStyleModel",
          "model_module_version": "1.5.0",
          "state": {
            "_model_module": "@jupyter-widgets/controls",
            "_model_module_version": "1.5.0",
            "_model_name": "DescriptionStyleModel",
            "_view_count": null,
            "_view_module": "@jupyter-widgets/base",
            "_view_module_version": "1.2.0",
            "_view_name": "StyleView",
            "description_width": ""
          }
        }
      }
    }
  },
  "cells": [
    {
      "cell_type": "code",
      "execution_count": null,
      "metadata": {
        "colab": {
          "base_uri": "https://localhost:8080/",
          "height": 1000,
          "referenced_widgets": [
            "e1dd905f33894cdda31129da60d7b9c3",
            "4eda60446b28418fb73cdb32666ab603",
            "420e1861c14c42fbb4ea327e729b7ba0",
            "bec5712a49f04834b5437b12f922eb7b",
            "bd5d6c1add614cf6ba649972b912a3c3",
            "a7351c3a16ae4d0f977f3c7a5d3ac996",
            "feddb6756b0a4241ab0ce31ba8690ea8",
            "3f19560a58784a81ae962e1e8cb89848",
            "ea6efe6780fe401ca38898fb53663690",
            "ceeff8f0d5eb4addaf51e7c34abac4fe",
            "365417e235ed4d88a720cfe4fabd43b6"
          ]
        },
        "id": "rzL4W7Mjhssh",
        "outputId": "f077fc17-9600-4c80-ec2b-774fb6ae7310"
      },
      "outputs": [
        {
          "output_type": "stream",
          "name": "stdout",
          "text": [
            "Looking in indexes: https://pypi.org/simple, https://download.pytorch.org/whl/cu118\n",
            "Requirement already satisfied: torch in /usr/local/lib/python3.11/dist-packages (2.6.0+cu124)\n",
            "Requirement already satisfied: torchvision in /usr/local/lib/python3.11/dist-packages (0.21.0+cu124)\n",
            "Requirement already satisfied: torchaudio in /usr/local/lib/python3.11/dist-packages (2.6.0+cu124)\n",
            "Requirement already satisfied: filelock in /usr/local/lib/python3.11/dist-packages (from torch) (3.18.0)\n",
            "Requirement already satisfied: typing-extensions>=4.10.0 in /usr/local/lib/python3.11/dist-packages (from torch) (4.13.1)\n",
            "Requirement already satisfied: networkx in /usr/local/lib/python3.11/dist-packages (from torch) (3.4.2)\n",
            "Requirement already satisfied: jinja2 in /usr/local/lib/python3.11/dist-packages (from torch) (3.1.6)\n",
            "Requirement already satisfied: fsspec in /usr/local/lib/python3.11/dist-packages (from torch) (2025.3.2)\n",
            "Collecting nvidia-cuda-nvrtc-cu12==12.4.127 (from torch)\n",
            "  Downloading nvidia_cuda_nvrtc_cu12-12.4.127-py3-none-manylinux2014_x86_64.whl.metadata (1.5 kB)\n",
            "Collecting nvidia-cuda-runtime-cu12==12.4.127 (from torch)\n",
            "  Downloading nvidia_cuda_runtime_cu12-12.4.127-py3-none-manylinux2014_x86_64.whl.metadata (1.5 kB)\n",
            "Collecting nvidia-cuda-cupti-cu12==12.4.127 (from torch)\n",
            "  Downloading nvidia_cuda_cupti_cu12-12.4.127-py3-none-manylinux2014_x86_64.whl.metadata (1.6 kB)\n",
            "Collecting nvidia-cudnn-cu12==9.1.0.70 (from torch)\n",
            "  Downloading nvidia_cudnn_cu12-9.1.0.70-py3-none-manylinux2014_x86_64.whl.metadata (1.6 kB)\n",
            "Collecting nvidia-cublas-cu12==12.4.5.8 (from torch)\n",
            "  Downloading nvidia_cublas_cu12-12.4.5.8-py3-none-manylinux2014_x86_64.whl.metadata (1.5 kB)\n",
            "Collecting nvidia-cufft-cu12==11.2.1.3 (from torch)\n",
            "  Downloading nvidia_cufft_cu12-11.2.1.3-py3-none-manylinux2014_x86_64.whl.metadata (1.5 kB)\n",
            "Collecting nvidia-curand-cu12==10.3.5.147 (from torch)\n",
            "  Downloading nvidia_curand_cu12-10.3.5.147-py3-none-manylinux2014_x86_64.whl.metadata (1.5 kB)\n",
            "Collecting nvidia-cusolver-cu12==11.6.1.9 (from torch)\n",
            "  Downloading nvidia_cusolver_cu12-11.6.1.9-py3-none-manylinux2014_x86_64.whl.metadata (1.6 kB)\n",
            "Collecting nvidia-cusparse-cu12==12.3.1.170 (from torch)\n",
            "  Downloading nvidia_cusparse_cu12-12.3.1.170-py3-none-manylinux2014_x86_64.whl.metadata (1.6 kB)\n",
            "Requirement already satisfied: nvidia-cusparselt-cu12==0.6.2 in /usr/local/lib/python3.11/dist-packages (from torch) (0.6.2)\n",
            "Requirement already satisfied: nvidia-nccl-cu12==2.21.5 in /usr/local/lib/python3.11/dist-packages (from torch) (2.21.5)\n",
            "Requirement already satisfied: nvidia-nvtx-cu12==12.4.127 in /usr/local/lib/python3.11/dist-packages (from torch) (12.4.127)\n",
            "Collecting nvidia-nvjitlink-cu12==12.4.127 (from torch)\n",
            "  Downloading nvidia_nvjitlink_cu12-12.4.127-py3-none-manylinux2014_x86_64.whl.metadata (1.5 kB)\n",
            "Requirement already satisfied: triton==3.2.0 in /usr/local/lib/python3.11/dist-packages (from torch) (3.2.0)\n",
            "Requirement already satisfied: sympy==1.13.1 in /usr/local/lib/python3.11/dist-packages (from torch) (1.13.1)\n",
            "Requirement already satisfied: mpmath<1.4,>=1.1.0 in /usr/local/lib/python3.11/dist-packages (from sympy==1.13.1->torch) (1.3.0)\n",
            "Requirement already satisfied: numpy in /usr/local/lib/python3.11/dist-packages (from torchvision) (2.0.2)\n",
            "Requirement already satisfied: pillow!=8.3.*,>=5.3.0 in /usr/local/lib/python3.11/dist-packages (from torchvision) (11.1.0)\n",
            "Requirement already satisfied: MarkupSafe>=2.0 in /usr/local/lib/python3.11/dist-packages (from jinja2->torch) (3.0.2)\n",
            "Downloading nvidia_cublas_cu12-12.4.5.8-py3-none-manylinux2014_x86_64.whl (363.4 MB)\n",
            "\u001b[2K   \u001b[90m━━━━━━━━━━━━━━━━━━━━━━━━━━━━━━━━━━━━━━━━\u001b[0m \u001b[32m363.4/363.4 MB\u001b[0m \u001b[31m2.0 MB/s\u001b[0m eta \u001b[36m0:00:00\u001b[0m\n",
            "\u001b[?25hDownloading nvidia_cuda_cupti_cu12-12.4.127-py3-none-manylinux2014_x86_64.whl (13.8 MB)\n",
            "\u001b[2K   \u001b[90m━━━━━━━━━━━━━━━━━━━━━━━━━━━━━━━━━━━━━━━━\u001b[0m \u001b[32m13.8/13.8 MB\u001b[0m \u001b[31m87.9 MB/s\u001b[0m eta \u001b[36m0:00:00\u001b[0m\n",
            "\u001b[?25hDownloading nvidia_cuda_nvrtc_cu12-12.4.127-py3-none-manylinux2014_x86_64.whl (24.6 MB)\n",
            "\u001b[2K   \u001b[90m━━━━━━━━━━━━━━━━━━━━━━━━━━━━━━━━━━━━━━━━\u001b[0m \u001b[32m24.6/24.6 MB\u001b[0m \u001b[31m71.4 MB/s\u001b[0m eta \u001b[36m0:00:00\u001b[0m\n",
            "\u001b[?25hDownloading nvidia_cuda_runtime_cu12-12.4.127-py3-none-manylinux2014_x86_64.whl (883 kB)\n",
            "\u001b[2K   \u001b[90m━━━━━━━━━━━━━━━━━━━━━━━━━━━━━━━━━━━━━━━━\u001b[0m \u001b[32m883.7/883.7 kB\u001b[0m \u001b[31m49.7 MB/s\u001b[0m eta \u001b[36m0:00:00\u001b[0m\n",
            "\u001b[?25hDownloading nvidia_cudnn_cu12-9.1.0.70-py3-none-manylinux2014_x86_64.whl (664.8 MB)\n",
            "\u001b[2K   \u001b[90m━━━━━━━━━━━━━━━━━━━━━━━━━━━━━━━━━━━━━━━━\u001b[0m \u001b[32m664.8/664.8 MB\u001b[0m \u001b[31m2.8 MB/s\u001b[0m eta \u001b[36m0:00:00\u001b[0m\n",
            "\u001b[?25hDownloading nvidia_cufft_cu12-11.2.1.3-py3-none-manylinux2014_x86_64.whl (211.5 MB)\n",
            "\u001b[2K   \u001b[90m━━━━━━━━━━━━━━━━━━━━━━━━━━━━━━━━━━━━━━━━\u001b[0m \u001b[32m211.5/211.5 MB\u001b[0m \u001b[31m5.5 MB/s\u001b[0m eta \u001b[36m0:00:00\u001b[0m\n",
            "\u001b[?25hDownloading nvidia_curand_cu12-10.3.5.147-py3-none-manylinux2014_x86_64.whl (56.3 MB)\n",
            "\u001b[2K   \u001b[90m━━━━━━━━━━━━━━━━━━━━━━━━━━━━━━━━━━━━━━━━\u001b[0m \u001b[32m56.3/56.3 MB\u001b[0m \u001b[31m14.9 MB/s\u001b[0m eta \u001b[36m0:00:00\u001b[0m\n",
            "\u001b[?25hDownloading nvidia_cusolver_cu12-11.6.1.9-py3-none-manylinux2014_x86_64.whl (127.9 MB)\n",
            "\u001b[2K   \u001b[90m━━━━━━━━━━━━━━━━━━━━━━━━━━━━━━━━━━━━━━━━\u001b[0m \u001b[32m127.9/127.9 MB\u001b[0m \u001b[31m7.8 MB/s\u001b[0m eta \u001b[36m0:00:00\u001b[0m\n",
            "\u001b[?25hDownloading nvidia_cusparse_cu12-12.3.1.170-py3-none-manylinux2014_x86_64.whl (207.5 MB)\n",
            "\u001b[2K   \u001b[90m━━━━━━━━━━━━━━━━━━━━━━━━━━━━━━━━━━━━━━━━\u001b[0m \u001b[32m207.5/207.5 MB\u001b[0m \u001b[31m6.1 MB/s\u001b[0m eta \u001b[36m0:00:00\u001b[0m\n",
            "\u001b[?25hDownloading nvidia_nvjitlink_cu12-12.4.127-py3-none-manylinux2014_x86_64.whl (21.1 MB)\n",
            "\u001b[2K   \u001b[90m━━━━━━━━━━━━━━━━━━━━━━━━━━━━━━━━━━━━━━━━\u001b[0m \u001b[32m21.1/21.1 MB\u001b[0m \u001b[31m74.6 MB/s\u001b[0m eta \u001b[36m0:00:00\u001b[0m\n",
            "\u001b[?25hInstalling collected packages: nvidia-nvjitlink-cu12, nvidia-curand-cu12, nvidia-cufft-cu12, nvidia-cuda-runtime-cu12, nvidia-cuda-nvrtc-cu12, nvidia-cuda-cupti-cu12, nvidia-cublas-cu12, nvidia-cusparse-cu12, nvidia-cudnn-cu12, nvidia-cusolver-cu12\n",
            "  Attempting uninstall: nvidia-nvjitlink-cu12\n",
            "    Found existing installation: nvidia-nvjitlink-cu12 12.5.82\n",
            "    Uninstalling nvidia-nvjitlink-cu12-12.5.82:\n",
            "      Successfully uninstalled nvidia-nvjitlink-cu12-12.5.82\n",
            "  Attempting uninstall: nvidia-curand-cu12\n",
            "    Found existing installation: nvidia-curand-cu12 10.3.6.82\n",
            "    Uninstalling nvidia-curand-cu12-10.3.6.82:\n",
            "      Successfully uninstalled nvidia-curand-cu12-10.3.6.82\n",
            "  Attempting uninstall: nvidia-cufft-cu12\n",
            "    Found existing installation: nvidia-cufft-cu12 11.2.3.61\n",
            "    Uninstalling nvidia-cufft-cu12-11.2.3.61:\n",
            "      Successfully uninstalled nvidia-cufft-cu12-11.2.3.61\n",
            "  Attempting uninstall: nvidia-cuda-runtime-cu12\n",
            "    Found existing installation: nvidia-cuda-runtime-cu12 12.5.82\n",
            "    Uninstalling nvidia-cuda-runtime-cu12-12.5.82:\n",
            "      Successfully uninstalled nvidia-cuda-runtime-cu12-12.5.82\n",
            "  Attempting uninstall: nvidia-cuda-nvrtc-cu12\n",
            "    Found existing installation: nvidia-cuda-nvrtc-cu12 12.5.82\n",
            "    Uninstalling nvidia-cuda-nvrtc-cu12-12.5.82:\n",
            "      Successfully uninstalled nvidia-cuda-nvrtc-cu12-12.5.82\n",
            "  Attempting uninstall: nvidia-cuda-cupti-cu12\n",
            "    Found existing installation: nvidia-cuda-cupti-cu12 12.5.82\n",
            "    Uninstalling nvidia-cuda-cupti-cu12-12.5.82:\n",
            "      Successfully uninstalled nvidia-cuda-cupti-cu12-12.5.82\n",
            "  Attempting uninstall: nvidia-cublas-cu12\n",
            "    Found existing installation: nvidia-cublas-cu12 12.5.3.2\n",
            "    Uninstalling nvidia-cublas-cu12-12.5.3.2:\n",
            "      Successfully uninstalled nvidia-cublas-cu12-12.5.3.2\n",
            "  Attempting uninstall: nvidia-cusparse-cu12\n",
            "    Found existing installation: nvidia-cusparse-cu12 12.5.1.3\n",
            "    Uninstalling nvidia-cusparse-cu12-12.5.1.3:\n",
            "      Successfully uninstalled nvidia-cusparse-cu12-12.5.1.3\n",
            "  Attempting uninstall: nvidia-cudnn-cu12\n",
            "    Found existing installation: nvidia-cudnn-cu12 9.3.0.75\n",
            "    Uninstalling nvidia-cudnn-cu12-9.3.0.75:\n",
            "      Successfully uninstalled nvidia-cudnn-cu12-9.3.0.75\n",
            "  Attempting uninstall: nvidia-cusolver-cu12\n",
            "    Found existing installation: nvidia-cusolver-cu12 11.6.3.83\n",
            "    Uninstalling nvidia-cusolver-cu12-11.6.3.83:\n",
            "      Successfully uninstalled nvidia-cusolver-cu12-11.6.3.83\n",
            "Successfully installed nvidia-cublas-cu12-12.4.5.8 nvidia-cuda-cupti-cu12-12.4.127 nvidia-cuda-nvrtc-cu12-12.4.127 nvidia-cuda-runtime-cu12-12.4.127 nvidia-cudnn-cu12-9.1.0.70 nvidia-cufft-cu12-11.2.1.3 nvidia-curand-cu12-10.3.5.147 nvidia-cusolver-cu12-11.6.1.9 nvidia-cusparse-cu12-12.3.1.170 nvidia-nvjitlink-cu12-12.4.127\n",
            "Requirement already satisfied: opencv-python in /usr/local/lib/python3.11/dist-packages (4.11.0.86)\n",
            "Requirement already satisfied: scikit-learn in /usr/local/lib/python3.11/dist-packages (1.6.1)\n",
            "Requirement already satisfied: pandas in /usr/local/lib/python3.11/dist-packages (2.2.2)\n",
            "Requirement already satisfied: matplotlib in /usr/local/lib/python3.11/dist-packages (3.10.0)\n",
            "Requirement already satisfied: numpy in /usr/local/lib/python3.11/dist-packages (2.0.2)\n",
            "Requirement already satisfied: imbalanced-learn in /usr/local/lib/python3.11/dist-packages (0.13.0)\n",
            "Requirement already satisfied: scipy>=1.6.0 in /usr/local/lib/python3.11/dist-packages (from scikit-learn) (1.14.1)\n",
            "Requirement already satisfied: joblib>=1.2.0 in /usr/local/lib/python3.11/dist-packages (from scikit-learn) (1.4.2)\n",
            "Requirement already satisfied: threadpoolctl>=3.1.0 in /usr/local/lib/python3.11/dist-packages (from scikit-learn) (3.6.0)\n",
            "Requirement already satisfied: python-dateutil>=2.8.2 in /usr/local/lib/python3.11/dist-packages (from pandas) (2.8.2)\n",
            "Requirement already satisfied: pytz>=2020.1 in /usr/local/lib/python3.11/dist-packages (from pandas) (2025.2)\n",
            "Requirement already satisfied: tzdata>=2022.7 in /usr/local/lib/python3.11/dist-packages (from pandas) (2025.2)\n",
            "Requirement already satisfied: contourpy>=1.0.1 in /usr/local/lib/python3.11/dist-packages (from matplotlib) (1.3.1)\n",
            "Requirement already satisfied: cycler>=0.10 in /usr/local/lib/python3.11/dist-packages (from matplotlib) (0.12.1)\n",
            "Requirement already satisfied: fonttools>=4.22.0 in /usr/local/lib/python3.11/dist-packages (from matplotlib) (4.57.0)\n",
            "Requirement already satisfied: kiwisolver>=1.3.1 in /usr/local/lib/python3.11/dist-packages (from matplotlib) (1.4.8)\n",
            "Requirement already satisfied: packaging>=20.0 in /usr/local/lib/python3.11/dist-packages (from matplotlib) (24.2)\n",
            "Requirement already satisfied: pillow>=8 in /usr/local/lib/python3.11/dist-packages (from matplotlib) (11.1.0)\n",
            "Requirement already satisfied: pyparsing>=2.3.1 in /usr/local/lib/python3.11/dist-packages (from matplotlib) (3.2.3)\n",
            "Requirement already satisfied: sklearn-compat<1,>=0.1 in /usr/local/lib/python3.11/dist-packages (from imbalanced-learn) (0.1.3)\n",
            "Requirement already satisfied: six>=1.5 in /usr/local/lib/python3.11/dist-packages (from python-dateutil>=2.8.2->pandas) (1.17.0)\n",
            "Requirement already satisfied: albumentations in /usr/local/lib/python3.11/dist-packages (2.0.5)\n",
            "Requirement already satisfied: tqdm in /usr/local/lib/python3.11/dist-packages (4.67.1)\n",
            "Requirement already satisfied: timm in /usr/local/lib/python3.11/dist-packages (1.0.15)\n",
            "Requirement already satisfied: numpy>=1.24.4 in /usr/local/lib/python3.11/dist-packages (from albumentations) (2.0.2)\n",
            "Requirement already satisfied: scipy>=1.10.0 in /usr/local/lib/python3.11/dist-packages (from albumentations) (1.14.1)\n",
            "Requirement already satisfied: PyYAML in /usr/local/lib/python3.11/dist-packages (from albumentations) (6.0.2)\n",
            "Requirement already satisfied: pydantic>=2.9.2 in /usr/local/lib/python3.11/dist-packages (from albumentations) (2.11.2)\n",
            "Requirement already satisfied: albucore==0.0.23 in /usr/local/lib/python3.11/dist-packages (from albumentations) (0.0.23)\n",
            "Requirement already satisfied: opencv-python-headless>=4.9.0.80 in /usr/local/lib/python3.11/dist-packages (from albumentations) (4.11.0.86)\n",
            "Requirement already satisfied: stringzilla>=3.10.4 in /usr/local/lib/python3.11/dist-packages (from albucore==0.0.23->albumentations) (3.12.3)\n",
            "Requirement already satisfied: simsimd>=5.9.2 in /usr/local/lib/python3.11/dist-packages (from albucore==0.0.23->albumentations) (6.2.1)\n",
            "Requirement already satisfied: torch in /usr/local/lib/python3.11/dist-packages (from timm) (2.6.0+cu124)\n",
            "Requirement already satisfied: torchvision in /usr/local/lib/python3.11/dist-packages (from timm) (0.21.0+cu124)\n",
            "Requirement already satisfied: huggingface_hub in /usr/local/lib/python3.11/dist-packages (from timm) (0.30.1)\n",
            "Requirement already satisfied: safetensors in /usr/local/lib/python3.11/dist-packages (from timm) (0.5.3)\n",
            "Requirement already satisfied: annotated-types>=0.6.0 in /usr/local/lib/python3.11/dist-packages (from pydantic>=2.9.2->albumentations) (0.7.0)\n",
            "Requirement already satisfied: pydantic-core==2.33.1 in /usr/local/lib/python3.11/dist-packages (from pydantic>=2.9.2->albumentations) (2.33.1)\n",
            "Requirement already satisfied: typing-extensions>=4.12.2 in /usr/local/lib/python3.11/dist-packages (from pydantic>=2.9.2->albumentations) (4.13.1)\n",
            "Requirement already satisfied: typing-inspection>=0.4.0 in /usr/local/lib/python3.11/dist-packages (from pydantic>=2.9.2->albumentations) (0.4.0)\n",
            "Requirement already satisfied: filelock in /usr/local/lib/python3.11/dist-packages (from huggingface_hub->timm) (3.18.0)\n",
            "Requirement already satisfied: fsspec>=2023.5.0 in /usr/local/lib/python3.11/dist-packages (from huggingface_hub->timm) (2025.3.2)\n",
            "Requirement already satisfied: packaging>=20.9 in /usr/local/lib/python3.11/dist-packages (from huggingface_hub->timm) (24.2)\n",
            "Requirement already satisfied: requests in /usr/local/lib/python3.11/dist-packages (from huggingface_hub->timm) (2.32.3)\n",
            "Requirement already satisfied: networkx in /usr/local/lib/python3.11/dist-packages (from torch->timm) (3.4.2)\n",
            "Requirement already satisfied: jinja2 in /usr/local/lib/python3.11/dist-packages (from torch->timm) (3.1.6)\n",
            "Requirement already satisfied: nvidia-cuda-nvrtc-cu12==12.4.127 in /usr/local/lib/python3.11/dist-packages (from torch->timm) (12.4.127)\n",
            "Requirement already satisfied: nvidia-cuda-runtime-cu12==12.4.127 in /usr/local/lib/python3.11/dist-packages (from torch->timm) (12.4.127)\n",
            "Requirement already satisfied: nvidia-cuda-cupti-cu12==12.4.127 in /usr/local/lib/python3.11/dist-packages (from torch->timm) (12.4.127)\n",
            "Requirement already satisfied: nvidia-cudnn-cu12==9.1.0.70 in /usr/local/lib/python3.11/dist-packages (from torch->timm) (9.1.0.70)\n",
            "Requirement already satisfied: nvidia-cublas-cu12==12.4.5.8 in /usr/local/lib/python3.11/dist-packages (from torch->timm) (12.4.5.8)\n",
            "Requirement already satisfied: nvidia-cufft-cu12==11.2.1.3 in /usr/local/lib/python3.11/dist-packages (from torch->timm) (11.2.1.3)\n",
            "Requirement already satisfied: nvidia-curand-cu12==10.3.5.147 in /usr/local/lib/python3.11/dist-packages (from torch->timm) (10.3.5.147)\n",
            "Requirement already satisfied: nvidia-cusolver-cu12==11.6.1.9 in /usr/local/lib/python3.11/dist-packages (from torch->timm) (11.6.1.9)\n",
            "Requirement already satisfied: nvidia-cusparse-cu12==12.3.1.170 in /usr/local/lib/python3.11/dist-packages (from torch->timm) (12.3.1.170)\n",
            "Requirement already satisfied: nvidia-cusparselt-cu12==0.6.2 in /usr/local/lib/python3.11/dist-packages (from torch->timm) (0.6.2)\n",
            "Requirement already satisfied: nvidia-nccl-cu12==2.21.5 in /usr/local/lib/python3.11/dist-packages (from torch->timm) (2.21.5)\n",
            "Requirement already satisfied: nvidia-nvtx-cu12==12.4.127 in /usr/local/lib/python3.11/dist-packages (from torch->timm) (12.4.127)\n",
            "Requirement already satisfied: nvidia-nvjitlink-cu12==12.4.127 in /usr/local/lib/python3.11/dist-packages (from torch->timm) (12.4.127)\n",
            "Requirement already satisfied: triton==3.2.0 in /usr/local/lib/python3.11/dist-packages (from torch->timm) (3.2.0)\n",
            "Requirement already satisfied: sympy==1.13.1 in /usr/local/lib/python3.11/dist-packages (from torch->timm) (1.13.1)\n",
            "Requirement already satisfied: mpmath<1.4,>=1.1.0 in /usr/local/lib/python3.11/dist-packages (from sympy==1.13.1->torch->timm) (1.3.0)\n",
            "Requirement already satisfied: pillow!=8.3.*,>=5.3.0 in /usr/local/lib/python3.11/dist-packages (from torchvision->timm) (11.1.0)\n",
            "Requirement already satisfied: MarkupSafe>=2.0 in /usr/local/lib/python3.11/dist-packages (from jinja2->torch->timm) (3.0.2)\n",
            "Requirement already satisfied: charset-normalizer<4,>=2 in /usr/local/lib/python3.11/dist-packages (from requests->huggingface_hub->timm) (3.4.1)\n",
            "Requirement already satisfied: idna<4,>=2.5 in /usr/local/lib/python3.11/dist-packages (from requests->huggingface_hub->timm) (3.10)\n",
            "Requirement already satisfied: urllib3<3,>=1.21.1 in /usr/local/lib/python3.11/dist-packages (from requests->huggingface_hub->timm) (2.3.0)\n",
            "Requirement already satisfied: certifi>=2017.4.17 in /usr/local/lib/python3.11/dist-packages (from requests->huggingface_hub->timm) (2025.1.31)\n",
            "Mounted at /content/drive\n",
            "Loading datasets...\n"
          ]
        },
        {
          "output_type": "stream",
          "name": "stderr",
          "text": [
            "<ipython-input-6-8d2e11b859f4>:64: UserWarning: Argument(s) 'var_limit' are not valid for transform GaussNoise\n",
            "  A.GaussNoise(var_limit=(10.0, 30.0), p=0.3),\n",
            "<ipython-input-6-8d2e11b859f4>:65: UserWarning: Argument(s) 'max_holes, max_height, max_width' are not valid for transform CoarseDropout\n",
            "  A.CoarseDropout(max_holes=8, max_height=32, max_width=32, p=0.3),\n"
          ]
        },
        {
          "output_type": "stream",
          "name": "stdout",
          "text": [
            "\n",
            "Class Distribution:\n",
            "Normal: 60 images\n",
            "osteophenia: 60 images\n",
            "osteoporosis: 57 images\n",
            "\n",
            "Balancing dataset...\n"
          ]
        },
        {
          "output_type": "stream",
          "name": "stderr",
          "text": [
            "/usr/local/lib/python3.11/dist-packages/huggingface_hub/utils/_auth.py:94: UserWarning: \n",
            "The secret `HF_TOKEN` does not exist in your Colab secrets.\n",
            "To authenticate with the Hugging Face Hub, create a token in your settings tab (https://huggingface.co/settings/tokens), set it as secret in your Google Colab and restart your session.\n",
            "You will be able to reuse this secret in all of your notebooks.\n",
            "Please note that authentication is recommended but still optional to access public models or datasets.\n",
            "  warnings.warn(\n"
          ]
        },
        {
          "output_type": "display_data",
          "data": {
            "text/plain": [
              "model.safetensors:   0%|          | 0.00/77.9M [00:00<?, ?B/s]"
            ],
            "application/vnd.jupyter.widget-view+json": {
              "version_major": 2,
              "version_minor": 0,
              "model_id": "e1dd905f33894cdda31129da60d7b9c3"
            }
          },
          "metadata": {}
        },
        {
          "output_type": "stream",
          "name": "stderr",
          "text": [
            "/usr/local/lib/python3.11/dist-packages/torch/optim/lr_scheduler.py:62: UserWarning: The verbose parameter is deprecated. Please use get_last_lr() to access the learning rate.\n",
            "  warnings.warn(\n",
            "<ipython-input-6-8d2e11b859f4>:422: FutureWarning: `torch.cuda.amp.GradScaler(args...)` is deprecated. Please use `torch.amp.GradScaler('cuda', args...)` instead.\n",
            "  scaler = GradScaler()\n",
            "Training:   0%|          | 0/9 [00:00<?, ?it/s]<ipython-input-6-8d2e11b859f4>:330: FutureWarning: `torch.cuda.amp.autocast(args...)` is deprecated. Please use `torch.amp.autocast('cuda', args...)` instead.\n",
            "  with autocast():\n",
            "Training: 100%|██████████| 9/9 [00:18<00:00,  2.04s/it]\n",
            "Validating:   0%|          | 0/3 [00:00<?, ?it/s]<ipython-input-6-8d2e11b859f4>:366: FutureWarning: `torch.cuda.amp.autocast(args...)` is deprecated. Please use `torch.amp.autocast('cuda', args...)` instead.\n",
            "  with autocast():\n",
            "Validating: 100%|██████████| 3/3 [00:06<00:00,  2.23s/it]\n",
            "TTA Validating:   0%|          | 0/36 [00:00<?, ?it/s]<ipython-input-6-8d2e11b859f4>:400: FutureWarning: `torch.cuda.amp.autocast(args...)` is deprecated. Please use `torch.amp.autocast('cuda', args...)` instead.\n",
            "  with autocast():\n",
            "TTA Validating: 100%|██████████| 36/36 [00:05<00:00,  6.03it/s]\n"
          ]
        },
        {
          "output_type": "stream",
          "name": "stdout",
          "text": [
            "\n",
            "Epoch 1/200:\n",
            "Train Loss: 0.9539 | Train Acc: 40.28%\n",
            "Val Loss: 0.8203 | Val Acc: 33.33% | Val F1: 0.1667\n",
            "TTA Val Acc: 33.33% | TTA F1: 0.1667\n",
            "Saved new best model\n"
          ]
        },
        {
          "output_type": "stream",
          "name": "stderr",
          "text": [
            "Training:   0%|          | 0/9 [00:00<?, ?it/s]<ipython-input-6-8d2e11b859f4>:330: FutureWarning: `torch.cuda.amp.autocast(args...)` is deprecated. Please use `torch.amp.autocast('cuda', args...)` instead.\n",
            "  with autocast():\n",
            "Training: 100%|██████████| 9/9 [00:05<00:00,  1.50it/s]\n",
            "Validating:   0%|          | 0/3 [00:00<?, ?it/s]<ipython-input-6-8d2e11b859f4>:366: FutureWarning: `torch.cuda.amp.autocast(args...)` is deprecated. Please use `torch.amp.autocast('cuda', args...)` instead.\n",
            "  with autocast():\n",
            "Validating: 100%|██████████| 3/3 [00:00<00:00,  5.05it/s]\n",
            "TTA Validating:   0%|          | 0/36 [00:00<?, ?it/s]<ipython-input-6-8d2e11b859f4>:400: FutureWarning: `torch.cuda.amp.autocast(args...)` is deprecated. Please use `torch.amp.autocast('cuda', args...)` instead.\n",
            "  with autocast():\n",
            "TTA Validating: 100%|██████████| 36/36 [00:05<00:00,  6.89it/s]\n"
          ]
        },
        {
          "output_type": "stream",
          "name": "stdout",
          "text": [
            "\n",
            "Epoch 2/200:\n",
            "Train Loss: 0.9337 | Train Acc: 46.53%\n",
            "Val Loss: 0.8233 | Val Acc: 36.11% | Val F1: 0.2215\n",
            "TTA Val Acc: 36.11% | TTA F1: 0.2887\n",
            "Saved new best model\n"
          ]
        },
        {
          "output_type": "stream",
          "name": "stderr",
          "text": [
            "Training:   0%|          | 0/9 [00:00<?, ?it/s]<ipython-input-6-8d2e11b859f4>:330: FutureWarning: `torch.cuda.amp.autocast(args...)` is deprecated. Please use `torch.amp.autocast('cuda', args...)` instead.\n",
            "  with autocast():\n",
            "Training: 100%|██████████| 9/9 [00:03<00:00,  2.25it/s]\n",
            "Validating:   0%|          | 0/3 [00:00<?, ?it/s]<ipython-input-6-8d2e11b859f4>:366: FutureWarning: `torch.cuda.amp.autocast(args...)` is deprecated. Please use `torch.amp.autocast('cuda', args...)` instead.\n",
            "  with autocast():\n",
            "Validating: 100%|██████████| 3/3 [00:00<00:00,  4.90it/s]\n",
            "TTA Validating:   0%|          | 0/36 [00:00<?, ?it/s]<ipython-input-6-8d2e11b859f4>:400: FutureWarning: `torch.cuda.amp.autocast(args...)` is deprecated. Please use `torch.amp.autocast('cuda', args...)` instead.\n",
            "  with autocast():\n",
            "TTA Validating: 100%|██████████| 36/36 [00:04<00:00,  8.39it/s]\n"
          ]
        },
        {
          "output_type": "stream",
          "name": "stdout",
          "text": [
            "\n",
            "Epoch 3/200:\n",
            "Train Loss: 0.7898 | Train Acc: 53.47%\n",
            "Val Loss: 0.8255 | Val Acc: 38.89% | Val F1: 0.2882\n",
            "TTA Val Acc: 47.22% | TTA F1: 0.3749\n",
            "Saved new best model\n"
          ]
        },
        {
          "output_type": "stream",
          "name": "stderr",
          "text": [
            "Training:   0%|          | 0/9 [00:00<?, ?it/s]<ipython-input-6-8d2e11b859f4>:330: FutureWarning: `torch.cuda.amp.autocast(args...)` is deprecated. Please use `torch.amp.autocast('cuda', args...)` instead.\n",
            "  with autocast():\n",
            "Training: 100%|██████████| 9/9 [00:04<00:00,  2.06it/s]\n",
            "Validating:   0%|          | 0/3 [00:00<?, ?it/s]<ipython-input-6-8d2e11b859f4>:366: FutureWarning: `torch.cuda.amp.autocast(args...)` is deprecated. Please use `torch.amp.autocast('cuda', args...)` instead.\n",
            "  with autocast():\n",
            "Validating: 100%|██████████| 3/3 [00:00<00:00,  4.52it/s]\n",
            "TTA Validating:   0%|          | 0/36 [00:00<?, ?it/s]<ipython-input-6-8d2e11b859f4>:400: FutureWarning: `torch.cuda.amp.autocast(args...)` is deprecated. Please use `torch.amp.autocast('cuda', args...)` instead.\n",
            "  with autocast():\n",
            "TTA Validating: 100%|██████████| 36/36 [00:04<00:00,  8.39it/s]\n"
          ]
        },
        {
          "output_type": "stream",
          "name": "stdout",
          "text": [
            "\n",
            "Epoch 4/200:\n",
            "Train Loss: 0.8388 | Train Acc: 52.78%\n",
            "Val Loss: 0.8075 | Val Acc: 50.00% | Val F1: 0.4103\n",
            "TTA Val Acc: 47.22% | TTA F1: 0.3839\n"
          ]
        },
        {
          "output_type": "stream",
          "name": "stderr",
          "text": [
            "Training:   0%|          | 0/9 [00:00<?, ?it/s]<ipython-input-6-8d2e11b859f4>:330: FutureWarning: `torch.cuda.amp.autocast(args...)` is deprecated. Please use `torch.amp.autocast('cuda', args...)` instead.\n",
            "  with autocast():\n",
            "Training: 100%|██████████| 9/9 [00:03<00:00,  2.91it/s]\n",
            "Validating:   0%|          | 0/3 [00:00<?, ?it/s]<ipython-input-6-8d2e11b859f4>:366: FutureWarning: `torch.cuda.amp.autocast(args...)` is deprecated. Please use `torch.amp.autocast('cuda', args...)` instead.\n",
            "  with autocast():\n",
            "Validating: 100%|██████████| 3/3 [00:00<00:00,  4.93it/s]\n",
            "TTA Validating:   0%|          | 0/36 [00:00<?, ?it/s]<ipython-input-6-8d2e11b859f4>:400: FutureWarning: `torch.cuda.amp.autocast(args...)` is deprecated. Please use `torch.amp.autocast('cuda', args...)` instead.\n",
            "  with autocast():\n",
            "TTA Validating: 100%|██████████| 36/36 [00:05<00:00,  6.14it/s]\n"
          ]
        },
        {
          "output_type": "stream",
          "name": "stdout",
          "text": [
            "\n",
            "Epoch 5/200:\n",
            "Train Loss: 0.7015 | Train Acc: 58.33%\n",
            "Val Loss: 0.7948 | Val Acc: 41.67% | Val F1: 0.3356\n",
            "TTA Val Acc: 50.00% | TTA F1: 0.4948\n",
            "Saved new best model\n"
          ]
        },
        {
          "output_type": "stream",
          "name": "stderr",
          "text": [
            "\rTraining:   0%|          | 0/9 [00:00<?, ?it/s]<ipython-input-6-8d2e11b859f4>:330: FutureWarning: `torch.cuda.amp.autocast(args...)` is deprecated. Please use `torch.amp.autocast('cuda', args...)` instead.\n",
            "  with autocast():\n",
            "Training: 100%|██████████| 9/9 [00:02<00:00,  3.15it/s]\n",
            "Validating:   0%|          | 0/3 [00:00<?, ?it/s]<ipython-input-6-8d2e11b859f4>:366: FutureWarning: `torch.cuda.amp.autocast(args...)` is deprecated. Please use `torch.amp.autocast('cuda', args...)` instead.\n",
            "  with autocast():\n",
            "Validating: 100%|██████████| 3/3 [00:00<00:00,  4.96it/s]\n",
            "TTA Validating:   0%|          | 0/36 [00:00<?, ?it/s]<ipython-input-6-8d2e11b859f4>:400: FutureWarning: `torch.cuda.amp.autocast(args...)` is deprecated. Please use `torch.amp.autocast('cuda', args...)` instead.\n",
            "  with autocast():\n",
            "TTA Validating: 100%|██████████| 36/36 [00:04<00:00,  8.40it/s]\n"
          ]
        },
        {
          "output_type": "stream",
          "name": "stdout",
          "text": [
            "\n",
            "Epoch 6/200:\n",
            "Train Loss: 0.5464 | Train Acc: 68.75%\n",
            "Val Loss: 0.7939 | Val Acc: 41.67% | Val F1: 0.3356\n",
            "TTA Val Acc: 50.00% | TTA F1: 0.4994\n"
          ]
        },
        {
          "output_type": "stream",
          "name": "stderr",
          "text": [
            "Training:   0%|          | 0/9 [00:00<?, ?it/s]<ipython-input-6-8d2e11b859f4>:330: FutureWarning: `torch.cuda.amp.autocast(args...)` is deprecated. Please use `torch.amp.autocast('cuda', args...)` instead.\n",
            "  with autocast():\n",
            "Training: 100%|██████████| 9/9 [00:03<00:00,  2.54it/s]\n",
            "Validating:   0%|          | 0/3 [00:00<?, ?it/s]<ipython-input-6-8d2e11b859f4>:366: FutureWarning: `torch.cuda.amp.autocast(args...)` is deprecated. Please use `torch.amp.autocast('cuda', args...)` instead.\n",
            "  with autocast():\n",
            "Validating: 100%|██████████| 3/3 [00:00<00:00,  3.29it/s]\n",
            "TTA Validating:   0%|          | 0/36 [00:00<?, ?it/s]<ipython-input-6-8d2e11b859f4>:400: FutureWarning: `torch.cuda.amp.autocast(args...)` is deprecated. Please use `torch.amp.autocast('cuda', args...)` instead.\n",
            "  with autocast():\n",
            "TTA Validating: 100%|██████████| 36/36 [00:04<00:00,  8.12it/s]\n"
          ]
        },
        {
          "output_type": "stream",
          "name": "stdout",
          "text": [
            "\n",
            "Epoch 7/200:\n",
            "Train Loss: 0.6141 | Train Acc: 55.56%\n",
            "Val Loss: 0.7940 | Val Acc: 52.78% | Val F1: 0.5052\n",
            "TTA Val Acc: 47.22% | TTA F1: 0.4716\n"
          ]
        },
        {
          "output_type": "stream",
          "name": "stderr",
          "text": [
            "\rTraining:   0%|          | 0/9 [00:00<?, ?it/s]<ipython-input-6-8d2e11b859f4>:330: FutureWarning: `torch.cuda.amp.autocast(args...)` is deprecated. Please use `torch.amp.autocast('cuda', args...)` instead.\n",
            "  with autocast():\n",
            "Training: 100%|██████████| 9/9 [00:02<00:00,  3.42it/s]\n",
            "Validating:   0%|          | 0/3 [00:00<?, ?it/s]<ipython-input-6-8d2e11b859f4>:366: FutureWarning: `torch.cuda.amp.autocast(args...)` is deprecated. Please use `torch.amp.autocast('cuda', args...)` instead.\n",
            "  with autocast():\n",
            "Validating: 100%|██████████| 3/3 [00:00<00:00,  5.01it/s]\n",
            "TTA Validating:   0%|          | 0/36 [00:00<?, ?it/s]<ipython-input-6-8d2e11b859f4>:400: FutureWarning: `torch.cuda.amp.autocast(args...)` is deprecated. Please use `torch.amp.autocast('cuda', args...)` instead.\n",
            "  with autocast():\n",
            "TTA Validating: 100%|██████████| 36/36 [00:05<00:00,  6.74it/s]\n"
          ]
        },
        {
          "output_type": "stream",
          "name": "stdout",
          "text": [
            "\n",
            "Epoch 8/200:\n",
            "Train Loss: 0.6302 | Train Acc: 56.94%\n",
            "Val Loss: 0.8102 | Val Acc: 50.00% | Val F1: 0.4817\n",
            "TTA Val Acc: 44.44% | TTA F1: 0.4485\n"
          ]
        },
        {
          "output_type": "stream",
          "name": "stderr",
          "text": [
            "\rTraining:   0%|          | 0/9 [00:00<?, ?it/s]<ipython-input-6-8d2e11b859f4>:330: FutureWarning: `torch.cuda.amp.autocast(args...)` is deprecated. Please use `torch.amp.autocast('cuda', args...)` instead.\n",
            "  with autocast():\n",
            "Training: 100%|██████████| 9/9 [00:03<00:00,  2.96it/s]\n",
            "Validating:   0%|          | 0/3 [00:00<?, ?it/s]<ipython-input-6-8d2e11b859f4>:366: FutureWarning: `torch.cuda.amp.autocast(args...)` is deprecated. Please use `torch.amp.autocast('cuda', args...)` instead.\n",
            "  with autocast():\n",
            "Validating: 100%|██████████| 3/3 [00:00<00:00,  4.93it/s]\n",
            "TTA Validating:   0%|          | 0/36 [00:00<?, ?it/s]<ipython-input-6-8d2e11b859f4>:400: FutureWarning: `torch.cuda.amp.autocast(args...)` is deprecated. Please use `torch.amp.autocast('cuda', args...)` instead.\n",
            "  with autocast():\n",
            "TTA Validating: 100%|██████████| 36/36 [00:04<00:00,  8.24it/s]\n"
          ]
        },
        {
          "output_type": "stream",
          "name": "stdout",
          "text": [
            "\n",
            "Epoch 9/200:\n",
            "Train Loss: 0.5250 | Train Acc: 66.67%\n",
            "Val Loss: 0.8338 | Val Acc: 50.00% | Val F1: 0.4824\n",
            "TTA Val Acc: 50.00% | TTA F1: 0.4960\n"
          ]
        },
        {
          "output_type": "stream",
          "name": "stderr",
          "text": [
            "\rTraining:   0%|          | 0/9 [00:00<?, ?it/s]<ipython-input-6-8d2e11b859f4>:330: FutureWarning: `torch.cuda.amp.autocast(args...)` is deprecated. Please use `torch.amp.autocast('cuda', args...)` instead.\n",
            "  with autocast():\n",
            "Training: 100%|██████████| 9/9 [00:02<00:00,  3.37it/s]\n",
            "Validating:   0%|          | 0/3 [00:00<?, ?it/s]<ipython-input-6-8d2e11b859f4>:366: FutureWarning: `torch.cuda.amp.autocast(args...)` is deprecated. Please use `torch.amp.autocast('cuda', args...)` instead.\n",
            "  with autocast():\n",
            "Validating: 100%|██████████| 3/3 [00:00<00:00,  4.34it/s]\n",
            "TTA Validating:   0%|          | 0/36 [00:00<?, ?it/s]<ipython-input-6-8d2e11b859f4>:400: FutureWarning: `torch.cuda.amp.autocast(args...)` is deprecated. Please use `torch.amp.autocast('cuda', args...)` instead.\n",
            "  with autocast():\n",
            "TTA Validating: 100%|██████████| 36/36 [00:05<00:00,  6.26it/s]\n"
          ]
        },
        {
          "output_type": "stream",
          "name": "stdout",
          "text": [
            "\n",
            "Epoch 10/200:\n",
            "Train Loss: 0.5199 | Train Acc: 70.14%\n",
            "Val Loss: 0.8776 | Val Acc: 50.00% | Val F1: 0.4824\n",
            "TTA Val Acc: 47.22% | TTA F1: 0.4572\n"
          ]
        },
        {
          "output_type": "stream",
          "name": "stderr",
          "text": [
            "\rTraining:   0%|          | 0/9 [00:00<?, ?it/s]<ipython-input-6-8d2e11b859f4>:330: FutureWarning: `torch.cuda.amp.autocast(args...)` is deprecated. Please use `torch.amp.autocast('cuda', args...)` instead.\n",
            "  with autocast():\n",
            "Training: 100%|██████████| 9/9 [00:02<00:00,  3.39it/s]\n",
            "Validating:   0%|          | 0/3 [00:00<?, ?it/s]<ipython-input-6-8d2e11b859f4>:366: FutureWarning: `torch.cuda.amp.autocast(args...)` is deprecated. Please use `torch.amp.autocast('cuda', args...)` instead.\n",
            "  with autocast():\n",
            "Validating: 100%|██████████| 3/3 [00:00<00:00,  4.86it/s]\n",
            "TTA Validating:   0%|          | 0/36 [00:00<?, ?it/s]<ipython-input-6-8d2e11b859f4>:400: FutureWarning: `torch.cuda.amp.autocast(args...)` is deprecated. Please use `torch.amp.autocast('cuda', args...)` instead.\n",
            "  with autocast():\n",
            "TTA Validating: 100%|██████████| 36/36 [00:04<00:00,  8.31it/s]\n"
          ]
        },
        {
          "output_type": "stream",
          "name": "stdout",
          "text": [
            "\n",
            "Epoch 11/200:\n",
            "Train Loss: 0.4849 | Train Acc: 68.06%\n",
            "Val Loss: 0.8754 | Val Acc: 50.00% | Val F1: 0.4824\n",
            "TTA Val Acc: 50.00% | TTA F1: 0.4962\n"
          ]
        },
        {
          "output_type": "stream",
          "name": "stderr",
          "text": [
            "\rTraining:   0%|          | 0/9 [00:00<?, ?it/s]<ipython-input-6-8d2e11b859f4>:330: FutureWarning: `torch.cuda.amp.autocast(args...)` is deprecated. Please use `torch.amp.autocast('cuda', args...)` instead.\n",
            "  with autocast():\n",
            "Training: 100%|██████████| 9/9 [00:04<00:00,  2.23it/s]\n",
            "Validating:   0%|          | 0/3 [00:00<?, ?it/s]<ipython-input-6-8d2e11b859f4>:366: FutureWarning: `torch.cuda.amp.autocast(args...)` is deprecated. Please use `torch.amp.autocast('cuda', args...)` instead.\n",
            "  with autocast():\n",
            "Validating: 100%|██████████| 3/3 [00:00<00:00,  4.58it/s]\n",
            "TTA Validating:   0%|          | 0/36 [00:00<?, ?it/s]<ipython-input-6-8d2e11b859f4>:400: FutureWarning: `torch.cuda.amp.autocast(args...)` is deprecated. Please use `torch.amp.autocast('cuda', args...)` instead.\n",
            "  with autocast():\n",
            "TTA Validating: 100%|██████████| 36/36 [00:04<00:00,  8.45it/s]\n"
          ]
        },
        {
          "output_type": "stream",
          "name": "stdout",
          "text": [
            "\n",
            "Epoch 12/200:\n",
            "Train Loss: 0.5214 | Train Acc: 63.89%\n",
            "Val Loss: 0.8650 | Val Acc: 50.00% | Val F1: 0.4817\n",
            "TTA Val Acc: 44.44% | TTA F1: 0.4376\n"
          ]
        },
        {
          "output_type": "stream",
          "name": "stderr",
          "text": [
            "\rTraining:   0%|          | 0/9 [00:00<?, ?it/s]<ipython-input-6-8d2e11b859f4>:330: FutureWarning: `torch.cuda.amp.autocast(args...)` is deprecated. Please use `torch.amp.autocast('cuda', args...)` instead.\n",
            "  with autocast():\n",
            "Training: 100%|██████████| 9/9 [00:02<00:00,  3.22it/s]\n",
            "Validating:   0%|          | 0/3 [00:00<?, ?it/s]<ipython-input-6-8d2e11b859f4>:366: FutureWarning: `torch.cuda.amp.autocast(args...)` is deprecated. Please use `torch.amp.autocast('cuda', args...)` instead.\n",
            "  with autocast():\n",
            "Validating: 100%|██████████| 3/3 [00:00<00:00,  5.09it/s]\n",
            "TTA Validating:   0%|          | 0/36 [00:00<?, ?it/s]<ipython-input-6-8d2e11b859f4>:400: FutureWarning: `torch.cuda.amp.autocast(args...)` is deprecated. Please use `torch.amp.autocast('cuda', args...)` instead.\n",
            "  with autocast():\n",
            "TTA Validating: 100%|██████████| 36/36 [00:05<00:00,  6.18it/s]\n"
          ]
        },
        {
          "output_type": "stream",
          "name": "stdout",
          "text": [
            "\n",
            "Epoch 13/200:\n",
            "Train Loss: 0.5625 | Train Acc: 63.89%\n",
            "Val Loss: 0.8843 | Val Acc: 50.00% | Val F1: 0.4817\n",
            "TTA Val Acc: 47.22% | TTA F1: 0.4611\n"
          ]
        },
        {
          "output_type": "stream",
          "name": "stderr",
          "text": [
            "\rTraining:   0%|          | 0/9 [00:00<?, ?it/s]<ipython-input-6-8d2e11b859f4>:330: FutureWarning: `torch.cuda.amp.autocast(args...)` is deprecated. Please use `torch.amp.autocast('cuda', args...)` instead.\n",
            "  with autocast():\n",
            "Training: 100%|██████████| 9/9 [00:02<00:00,  3.35it/s]\n",
            "Validating:   0%|          | 0/3 [00:00<?, ?it/s]<ipython-input-6-8d2e11b859f4>:366: FutureWarning: `torch.cuda.amp.autocast(args...)` is deprecated. Please use `torch.amp.autocast('cuda', args...)` instead.\n",
            "  with autocast():\n",
            "Validating: 100%|██████████| 3/3 [00:00<00:00,  4.71it/s]\n",
            "TTA Validating:   0%|          | 0/36 [00:00<?, ?it/s]<ipython-input-6-8d2e11b859f4>:400: FutureWarning: `torch.cuda.amp.autocast(args...)` is deprecated. Please use `torch.amp.autocast('cuda', args...)` instead.\n",
            "  with autocast():\n",
            "TTA Validating: 100%|██████████| 36/36 [00:04<00:00,  8.34it/s]\n"
          ]
        },
        {
          "output_type": "stream",
          "name": "stdout",
          "text": [
            "\n",
            "Epoch 14/200:\n",
            "Train Loss: 0.5212 | Train Acc: 70.14%\n",
            "Val Loss: 0.8596 | Val Acc: 52.78% | Val F1: 0.5175\n",
            "TTA Val Acc: 50.00% | TTA F1: 0.4849\n"
          ]
        },
        {
          "output_type": "stream",
          "name": "stderr",
          "text": [
            "\rTraining:   0%|          | 0/9 [00:00<?, ?it/s]<ipython-input-6-8d2e11b859f4>:330: FutureWarning: `torch.cuda.amp.autocast(args...)` is deprecated. Please use `torch.amp.autocast('cuda', args...)` instead.\n",
            "  with autocast():\n",
            "Training: 100%|██████████| 9/9 [00:02<00:00,  3.22it/s]\n",
            "Validating:   0%|          | 0/3 [00:00<?, ?it/s]<ipython-input-6-8d2e11b859f4>:366: FutureWarning: `torch.cuda.amp.autocast(args...)` is deprecated. Please use `torch.amp.autocast('cuda', args...)` instead.\n",
            "  with autocast():\n",
            "Validating: 100%|██████████| 3/3 [00:00<00:00,  3.42it/s]\n",
            "TTA Validating:   0%|          | 0/36 [00:00<?, ?it/s]<ipython-input-6-8d2e11b859f4>:400: FutureWarning: `torch.cuda.amp.autocast(args...)` is deprecated. Please use `torch.amp.autocast('cuda', args...)` instead.\n",
            "  with autocast():\n",
            "TTA Validating: 100%|██████████| 36/36 [00:05<00:00,  6.86it/s]\n"
          ]
        },
        {
          "output_type": "stream",
          "name": "stdout",
          "text": [
            "\n",
            "Epoch 15/200:\n",
            "Train Loss: 0.5595 | Train Acc: 62.50%\n",
            "Val Loss: 0.9016 | Val Acc: 52.78% | Val F1: 0.5175\n",
            "TTA Val Acc: 55.56% | TTA F1: 0.5444\n",
            "Saved new best model\n"
          ]
        },
        {
          "output_type": "stream",
          "name": "stderr",
          "text": [
            "\rTraining:   0%|          | 0/9 [00:00<?, ?it/s]<ipython-input-6-8d2e11b859f4>:330: FutureWarning: `torch.cuda.amp.autocast(args...)` is deprecated. Please use `torch.amp.autocast('cuda', args...)` instead.\n",
            "  with autocast():\n",
            "Training: 100%|██████████| 9/9 [00:02<00:00,  3.33it/s]\n",
            "Validating:   0%|          | 0/3 [00:00<?, ?it/s]<ipython-input-6-8d2e11b859f4>:366: FutureWarning: `torch.cuda.amp.autocast(args...)` is deprecated. Please use `torch.amp.autocast('cuda', args...)` instead.\n",
            "  with autocast():\n",
            "Validating: 100%|██████████| 3/3 [00:00<00:00,  5.02it/s]\n",
            "TTA Validating:   0%|          | 0/36 [00:00<?, ?it/s]<ipython-input-6-8d2e11b859f4>:400: FutureWarning: `torch.cuda.amp.autocast(args...)` is deprecated. Please use `torch.amp.autocast('cuda', args...)` instead.\n",
            "  with autocast():\n",
            "TTA Validating: 100%|██████████| 36/36 [00:05<00:00,  6.94it/s]\n"
          ]
        },
        {
          "output_type": "stream",
          "name": "stdout",
          "text": [
            "\n",
            "Epoch 16/200:\n",
            "Train Loss: 0.4755 | Train Acc: 71.53%\n",
            "Val Loss: 0.8769 | Val Acc: 52.78% | Val F1: 0.5047\n",
            "TTA Val Acc: 61.11% | TTA F1: 0.6096\n",
            "Saved new best model\n"
          ]
        },
        {
          "output_type": "stream",
          "name": "stderr",
          "text": [
            "\rTraining:   0%|          | 0/9 [00:00<?, ?it/s]<ipython-input-6-8d2e11b859f4>:330: FutureWarning: `torch.cuda.amp.autocast(args...)` is deprecated. Please use `torch.amp.autocast('cuda', args...)` instead.\n",
            "  with autocast():\n",
            "Training: 100%|██████████| 9/9 [00:03<00:00,  2.99it/s]\n",
            "Validating:   0%|          | 0/3 [00:00<?, ?it/s]<ipython-input-6-8d2e11b859f4>:366: FutureWarning: `torch.cuda.amp.autocast(args...)` is deprecated. Please use `torch.amp.autocast('cuda', args...)` instead.\n",
            "  with autocast():\n",
            "Validating: 100%|██████████| 3/3 [00:00<00:00,  4.97it/s]\n",
            "TTA Validating:   0%|          | 0/36 [00:00<?, ?it/s]<ipython-input-6-8d2e11b859f4>:400: FutureWarning: `torch.cuda.amp.autocast(args...)` is deprecated. Please use `torch.amp.autocast('cuda', args...)` instead.\n",
            "  with autocast():\n",
            "TTA Validating: 100%|██████████| 36/36 [00:04<00:00,  8.42it/s]\n"
          ]
        },
        {
          "output_type": "stream",
          "name": "stdout",
          "text": [
            "\n",
            "Epoch 17/200:\n",
            "Train Loss: 0.4295 | Train Acc: 73.61%\n",
            "Val Loss: 0.9184 | Val Acc: 47.22% | Val F1: 0.4578\n",
            "TTA Val Acc: 55.56% | TTA F1: 0.5590\n"
          ]
        },
        {
          "output_type": "stream",
          "name": "stderr",
          "text": [
            "\rTraining:   0%|          | 0/9 [00:00<?, ?it/s]<ipython-input-6-8d2e11b859f4>:330: FutureWarning: `torch.cuda.amp.autocast(args...)` is deprecated. Please use `torch.amp.autocast('cuda', args...)` instead.\n",
            "  with autocast():\n",
            "Training: 100%|██████████| 9/9 [00:02<00:00,  3.34it/s]\n",
            "Validating:   0%|          | 0/3 [00:00<?, ?it/s]<ipython-input-6-8d2e11b859f4>:366: FutureWarning: `torch.cuda.amp.autocast(args...)` is deprecated. Please use `torch.amp.autocast('cuda', args...)` instead.\n",
            "  with autocast():\n",
            "Validating: 100%|██████████| 3/3 [00:00<00:00,  4.00it/s]\n",
            "TTA Validating:   0%|          | 0/36 [00:00<?, ?it/s]<ipython-input-6-8d2e11b859f4>:400: FutureWarning: `torch.cuda.amp.autocast(args...)` is deprecated. Please use `torch.amp.autocast('cuda', args...)` instead.\n",
            "  with autocast():\n",
            "TTA Validating: 100%|██████████| 36/36 [00:05<00:00,  6.38it/s]\n"
          ]
        },
        {
          "output_type": "stream",
          "name": "stdout",
          "text": [
            "\n",
            "Epoch 18/200:\n",
            "Train Loss: 0.5040 | Train Acc: 67.36%\n",
            "Val Loss: 0.9662 | Val Acc: 52.78% | Val F1: 0.5062\n",
            "TTA Val Acc: 55.56% | TTA F1: 0.5527\n"
          ]
        },
        {
          "output_type": "stream",
          "name": "stderr",
          "text": [
            "\rTraining:   0%|          | 0/9 [00:00<?, ?it/s]<ipython-input-6-8d2e11b859f4>:330: FutureWarning: `torch.cuda.amp.autocast(args...)` is deprecated. Please use `torch.amp.autocast('cuda', args...)` instead.\n",
            "  with autocast():\n",
            "Training: 100%|██████████| 9/9 [00:02<00:00,  3.36it/s]\n",
            "Validating:   0%|          | 0/3 [00:00<?, ?it/s]<ipython-input-6-8d2e11b859f4>:366: FutureWarning: `torch.cuda.amp.autocast(args...)` is deprecated. Please use `torch.amp.autocast('cuda', args...)` instead.\n",
            "  with autocast():\n",
            "Validating: 100%|██████████| 3/3 [00:00<00:00,  4.94it/s]\n",
            "TTA Validating:   0%|          | 0/36 [00:00<?, ?it/s]<ipython-input-6-8d2e11b859f4>:400: FutureWarning: `torch.cuda.amp.autocast(args...)` is deprecated. Please use `torch.amp.autocast('cuda', args...)` instead.\n",
            "  with autocast():\n",
            "TTA Validating: 100%|██████████| 36/36 [00:04<00:00,  8.35it/s]\n"
          ]
        },
        {
          "output_type": "stream",
          "name": "stdout",
          "text": [
            "\n",
            "Epoch 19/200:\n",
            "Train Loss: 0.5679 | Train Acc: 65.28%\n",
            "Val Loss: 0.9415 | Val Acc: 55.56% | Val F1: 0.5442\n",
            "TTA Val Acc: 55.56% | TTA F1: 0.5411\n"
          ]
        },
        {
          "output_type": "stream",
          "name": "stderr",
          "text": [
            "\rTraining:   0%|          | 0/9 [00:00<?, ?it/s]<ipython-input-6-8d2e11b859f4>:330: FutureWarning: `torch.cuda.amp.autocast(args...)` is deprecated. Please use `torch.amp.autocast('cuda', args...)` instead.\n",
            "  with autocast():\n",
            "Training: 100%|██████████| 9/9 [00:04<00:00,  2.19it/s]\n",
            "Validating:   0%|          | 0/3 [00:00<?, ?it/s]<ipython-input-6-8d2e11b859f4>:366: FutureWarning: `torch.cuda.amp.autocast(args...)` is deprecated. Please use `torch.amp.autocast('cuda', args...)` instead.\n",
            "  with autocast():\n",
            "Validating: 100%|██████████| 3/3 [00:00<00:00,  4.44it/s]\n",
            "TTA Validating:   0%|          | 0/36 [00:00<?, ?it/s]<ipython-input-6-8d2e11b859f4>:400: FutureWarning: `torch.cuda.amp.autocast(args...)` is deprecated. Please use `torch.amp.autocast('cuda', args...)` instead.\n",
            "  with autocast():\n",
            "TTA Validating: 100%|██████████| 36/36 [00:04<00:00,  8.23it/s]\n"
          ]
        },
        {
          "output_type": "stream",
          "name": "stdout",
          "text": [
            "\n",
            "Epoch 20/200:\n",
            "Train Loss: 0.4591 | Train Acc: 70.14%\n",
            "Val Loss: 1.0897 | Val Acc: 50.00% | Val F1: 0.5021\n",
            "TTA Val Acc: 58.33% | TTA F1: 0.5818\n"
          ]
        },
        {
          "output_type": "stream",
          "name": "stderr",
          "text": [
            "\rTraining:   0%|          | 0/9 [00:00<?, ?it/s]<ipython-input-6-8d2e11b859f4>:330: FutureWarning: `torch.cuda.amp.autocast(args...)` is deprecated. Please use `torch.amp.autocast('cuda', args...)` instead.\n",
            "  with autocast():\n",
            "Training: 100%|██████████| 9/9 [00:02<00:00,  3.28it/s]\n",
            "Validating:   0%|          | 0/3 [00:00<?, ?it/s]<ipython-input-6-8d2e11b859f4>:366: FutureWarning: `torch.cuda.amp.autocast(args...)` is deprecated. Please use `torch.amp.autocast('cuda', args...)` instead.\n",
            "  with autocast():\n",
            "Validating: 100%|██████████| 3/3 [00:00<00:00,  4.88it/s]\n",
            "TTA Validating:   0%|          | 0/36 [00:00<?, ?it/s]<ipython-input-6-8d2e11b859f4>:400: FutureWarning: `torch.cuda.amp.autocast(args...)` is deprecated. Please use `torch.amp.autocast('cuda', args...)` instead.\n",
            "  with autocast():\n",
            "TTA Validating: 100%|██████████| 36/36 [00:05<00:00,  6.13it/s]\n"
          ]
        },
        {
          "output_type": "stream",
          "name": "stdout",
          "text": [
            "\n",
            "Epoch 21/200:\n",
            "Train Loss: 0.4525 | Train Acc: 75.00%\n",
            "Val Loss: 1.1899 | Val Acc: 50.00% | Val F1: 0.4875\n",
            "TTA Val Acc: 47.22% | TTA F1: 0.4542\n"
          ]
        },
        {
          "output_type": "stream",
          "name": "stderr",
          "text": [
            "\rTraining:   0%|          | 0/9 [00:00<?, ?it/s]<ipython-input-6-8d2e11b859f4>:330: FutureWarning: `torch.cuda.amp.autocast(args...)` is deprecated. Please use `torch.amp.autocast('cuda', args...)` instead.\n",
            "  with autocast():\n",
            "Training: 100%|██████████| 9/9 [00:02<00:00,  3.37it/s]\n",
            "Validating:   0%|          | 0/3 [00:00<?, ?it/s]<ipython-input-6-8d2e11b859f4>:366: FutureWarning: `torch.cuda.amp.autocast(args...)` is deprecated. Please use `torch.amp.autocast('cuda', args...)` instead.\n",
            "  with autocast():\n",
            "Validating: 100%|██████████| 3/3 [00:00<00:00,  5.10it/s]\n",
            "TTA Validating:   0%|          | 0/36 [00:00<?, ?it/s]<ipython-input-6-8d2e11b859f4>:400: FutureWarning: `torch.cuda.amp.autocast(args...)` is deprecated. Please use `torch.amp.autocast('cuda', args...)` instead.\n",
            "  with autocast():\n",
            "TTA Validating: 100%|██████████| 36/36 [00:04<00:00,  8.41it/s]\n"
          ]
        },
        {
          "output_type": "stream",
          "name": "stdout",
          "text": [
            "\n",
            "Epoch 22/200:\n",
            "Train Loss: 0.5354 | Train Acc: 67.36%\n",
            "Val Loss: 1.1272 | Val Acc: 47.22% | Val F1: 0.4321\n",
            "TTA Val Acc: 66.67% | TTA F1: 0.6672\n",
            "Saved new best model\n"
          ]
        },
        {
          "output_type": "stream",
          "name": "stderr",
          "text": [
            "\rTraining:   0%|          | 0/9 [00:00<?, ?it/s]<ipython-input-6-8d2e11b859f4>:330: FutureWarning: `torch.cuda.amp.autocast(args...)` is deprecated. Please use `torch.amp.autocast('cuda', args...)` instead.\n",
            "  with autocast():\n",
            "Training: 100%|██████████| 9/9 [00:03<00:00,  2.39it/s]\n",
            "Validating:   0%|          | 0/3 [00:00<?, ?it/s]<ipython-input-6-8d2e11b859f4>:366: FutureWarning: `torch.cuda.amp.autocast(args...)` is deprecated. Please use `torch.amp.autocast('cuda', args...)` instead.\n",
            "  with autocast():\n",
            "Validating: 100%|██████████| 3/3 [00:00<00:00,  3.37it/s]\n",
            "TTA Validating:   0%|          | 0/36 [00:00<?, ?it/s]<ipython-input-6-8d2e11b859f4>:400: FutureWarning: `torch.cuda.amp.autocast(args...)` is deprecated. Please use `torch.amp.autocast('cuda', args...)` instead.\n",
            "  with autocast():\n",
            "TTA Validating: 100%|██████████| 36/36 [00:04<00:00,  7.61it/s]\n"
          ]
        },
        {
          "output_type": "stream",
          "name": "stdout",
          "text": [
            "\n",
            "Epoch 23/200:\n",
            "Train Loss: 0.4481 | Train Acc: 75.69%\n",
            "Val Loss: 1.2004 | Val Acc: 58.33% | Val F1: 0.5027\n",
            "TTA Val Acc: 61.11% | TTA F1: 0.6085\n"
          ]
        },
        {
          "output_type": "stream",
          "name": "stderr",
          "text": [
            "Training:   0%|          | 0/9 [00:00<?, ?it/s]<ipython-input-6-8d2e11b859f4>:330: FutureWarning: `torch.cuda.amp.autocast(args...)` is deprecated. Please use `torch.amp.autocast('cuda', args...)` instead.\n",
            "  with autocast():\n",
            "Training: 100%|██████████| 9/9 [00:02<00:00,  3.38it/s]\n",
            "Validating:   0%|          | 0/3 [00:00<?, ?it/s]<ipython-input-6-8d2e11b859f4>:366: FutureWarning: `torch.cuda.amp.autocast(args...)` is deprecated. Please use `torch.amp.autocast('cuda', args...)` instead.\n",
            "  with autocast():\n",
            "Validating: 100%|██████████| 3/3 [00:00<00:00,  5.04it/s]\n",
            "TTA Validating:   0%|          | 0/36 [00:00<?, ?it/s]<ipython-input-6-8d2e11b859f4>:400: FutureWarning: `torch.cuda.amp.autocast(args...)` is deprecated. Please use `torch.amp.autocast('cuda', args...)` instead.\n",
            "  with autocast():\n",
            "TTA Validating: 100%|██████████| 36/36 [00:05<00:00,  6.56it/s]\n"
          ]
        },
        {
          "output_type": "stream",
          "name": "stdout",
          "text": [
            "\n",
            "Epoch 24/200:\n",
            "Train Loss: 0.4638 | Train Acc: 70.14%\n",
            "Val Loss: 1.1104 | Val Acc: 52.78% | Val F1: 0.5150\n",
            "TTA Val Acc: 61.11% | TTA F1: 0.5764\n"
          ]
        },
        {
          "output_type": "stream",
          "name": "stderr",
          "text": [
            "\rTraining:   0%|          | 0/9 [00:00<?, ?it/s]<ipython-input-6-8d2e11b859f4>:330: FutureWarning: `torch.cuda.amp.autocast(args...)` is deprecated. Please use `torch.amp.autocast('cuda', args...)` instead.\n",
            "  with autocast():\n",
            "Training: 100%|██████████| 9/9 [00:03<00:00,  2.84it/s]\n",
            "Validating:   0%|          | 0/3 [00:00<?, ?it/s]<ipython-input-6-8d2e11b859f4>:366: FutureWarning: `torch.cuda.amp.autocast(args...)` is deprecated. Please use `torch.amp.autocast('cuda', args...)` instead.\n",
            "  with autocast():\n",
            "Validating: 100%|██████████| 3/3 [00:00<00:00,  4.99it/s]\n",
            "TTA Validating:   0%|          | 0/36 [00:00<?, ?it/s]<ipython-input-6-8d2e11b859f4>:400: FutureWarning: `torch.cuda.amp.autocast(args...)` is deprecated. Please use `torch.amp.autocast('cuda', args...)` instead.\n",
            "  with autocast():\n",
            "TTA Validating: 100%|██████████| 36/36 [00:04<00:00,  8.36it/s]\n"
          ]
        },
        {
          "output_type": "stream",
          "name": "stdout",
          "text": [
            "\n",
            "Epoch 25/200:\n",
            "Train Loss: 0.4633 | Train Acc: 76.39%\n",
            "Val Loss: 1.0654 | Val Acc: 50.00% | Val F1: 0.4981\n",
            "TTA Val Acc: 55.56% | TTA F1: 0.5184\n"
          ]
        },
        {
          "output_type": "stream",
          "name": "stderr",
          "text": [
            "\rTraining:   0%|          | 0/9 [00:00<?, ?it/s]<ipython-input-6-8d2e11b859f4>:330: FutureWarning: `torch.cuda.amp.autocast(args...)` is deprecated. Please use `torch.amp.autocast('cuda', args...)` instead.\n",
            "  with autocast():\n",
            "Training: 100%|██████████| 9/9 [00:02<00:00,  3.36it/s]\n",
            "Validating:   0%|          | 0/3 [00:00<?, ?it/s]<ipython-input-6-8d2e11b859f4>:366: FutureWarning: `torch.cuda.amp.autocast(args...)` is deprecated. Please use `torch.amp.autocast('cuda', args...)` instead.\n",
            "  with autocast():\n",
            "Validating: 100%|██████████| 3/3 [00:00<00:00,  4.52it/s]\n",
            "TTA Validating:   0%|          | 0/36 [00:00<?, ?it/s]<ipython-input-6-8d2e11b859f4>:400: FutureWarning: `torch.cuda.amp.autocast(args...)` is deprecated. Please use `torch.amp.autocast('cuda', args...)` instead.\n",
            "  with autocast():\n",
            "TTA Validating: 100%|██████████| 36/36 [00:05<00:00,  6.22it/s]\n"
          ]
        },
        {
          "output_type": "stream",
          "name": "stdout",
          "text": [
            "\n",
            "Epoch 26/200:\n",
            "Train Loss: 0.3544 | Train Acc: 80.56%\n",
            "Val Loss: 1.1113 | Val Acc: 47.22% | Val F1: 0.4543\n",
            "TTA Val Acc: 63.89% | TTA F1: 0.6180\n"
          ]
        },
        {
          "output_type": "stream",
          "name": "stderr",
          "text": [
            "\rTraining:   0%|          | 0/9 [00:00<?, ?it/s]<ipython-input-6-8d2e11b859f4>:330: FutureWarning: `torch.cuda.amp.autocast(args...)` is deprecated. Please use `torch.amp.autocast('cuda', args...)` instead.\n",
            "  with autocast():\n",
            "Training: 100%|██████████| 9/9 [00:02<00:00,  3.22it/s]\n",
            "Validating:   0%|          | 0/3 [00:00<?, ?it/s]<ipython-input-6-8d2e11b859f4>:366: FutureWarning: `torch.cuda.amp.autocast(args...)` is deprecated. Please use `torch.amp.autocast('cuda', args...)` instead.\n",
            "  with autocast():\n",
            "Validating: 100%|██████████| 3/3 [00:00<00:00,  5.11it/s]\n",
            "TTA Validating:   0%|          | 0/36 [00:00<?, ?it/s]<ipython-input-6-8d2e11b859f4>:400: FutureWarning: `torch.cuda.amp.autocast(args...)` is deprecated. Please use `torch.amp.autocast('cuda', args...)` instead.\n",
            "  with autocast():\n",
            "TTA Validating: 100%|██████████| 36/36 [00:04<00:00,  8.43it/s]\n"
          ]
        },
        {
          "output_type": "stream",
          "name": "stdout",
          "text": [
            "\n",
            "Epoch 27/200:\n",
            "Train Loss: 0.3983 | Train Acc: 76.39%\n",
            "Val Loss: 1.0302 | Val Acc: 50.00% | Val F1: 0.4740\n",
            "TTA Val Acc: 63.89% | TTA F1: 0.6202\n"
          ]
        },
        {
          "output_type": "stream",
          "name": "stderr",
          "text": [
            "\rTraining:   0%|          | 0/9 [00:00<?, ?it/s]<ipython-input-6-8d2e11b859f4>:330: FutureWarning: `torch.cuda.amp.autocast(args...)` is deprecated. Please use `torch.amp.autocast('cuda', args...)` instead.\n",
            "  with autocast():\n",
            "Training: 100%|██████████| 9/9 [00:04<00:00,  2.21it/s]\n",
            "Validating:   0%|          | 0/3 [00:00<?, ?it/s]<ipython-input-6-8d2e11b859f4>:366: FutureWarning: `torch.cuda.amp.autocast(args...)` is deprecated. Please use `torch.amp.autocast('cuda', args...)` instead.\n",
            "  with autocast():\n",
            "Validating: 100%|██████████| 3/3 [00:00<00:00,  4.96it/s]\n",
            "TTA Validating:   0%|          | 0/36 [00:00<?, ?it/s]<ipython-input-6-8d2e11b859f4>:400: FutureWarning: `torch.cuda.amp.autocast(args...)` is deprecated. Please use `torch.amp.autocast('cuda', args...)` instead.\n",
            "  with autocast():\n",
            "TTA Validating: 100%|██████████| 36/36 [00:04<00:00,  8.37it/s]\n"
          ]
        },
        {
          "output_type": "stream",
          "name": "stdout",
          "text": [
            "\n",
            "Epoch 28/200:\n",
            "Train Loss: 0.4617 | Train Acc: 73.61%\n",
            "Val Loss: 1.0453 | Val Acc: 52.78% | Val F1: 0.5127\n",
            "TTA Val Acc: 66.67% | TTA F1: 0.6457\n"
          ]
        },
        {
          "output_type": "stream",
          "name": "stderr",
          "text": [
            "Training:   0%|          | 0/9 [00:00<?, ?it/s]<ipython-input-6-8d2e11b859f4>:330: FutureWarning: `torch.cuda.amp.autocast(args...)` is deprecated. Please use `torch.amp.autocast('cuda', args...)` instead.\n",
            "  with autocast():\n",
            "Training: 100%|██████████| 9/9 [00:02<00:00,  3.34it/s]\n",
            "Validating:   0%|          | 0/3 [00:00<?, ?it/s]<ipython-input-6-8d2e11b859f4>:366: FutureWarning: `torch.cuda.amp.autocast(args...)` is deprecated. Please use `torch.amp.autocast('cuda', args...)` instead.\n",
            "  with autocast():\n",
            "Validating: 100%|██████████| 3/3 [00:00<00:00,  4.97it/s]\n",
            "TTA Validating:   0%|          | 0/36 [00:00<?, ?it/s]<ipython-input-6-8d2e11b859f4>:400: FutureWarning: `torch.cuda.amp.autocast(args...)` is deprecated. Please use `torch.amp.autocast('cuda', args...)` instead.\n",
            "  with autocast():\n",
            "TTA Validating: 100%|██████████| 36/36 [00:05<00:00,  6.12it/s]\n"
          ]
        },
        {
          "output_type": "stream",
          "name": "stdout",
          "text": [
            "\n",
            "Epoch 29/200:\n",
            "Train Loss: 0.3858 | Train Acc: 75.69%\n",
            "Val Loss: 1.0040 | Val Acc: 50.00% | Val F1: 0.4798\n",
            "TTA Val Acc: 69.44% | TTA F1: 0.6838\n",
            "Saved new best model\n"
          ]
        },
        {
          "output_type": "stream",
          "name": "stderr",
          "text": [
            "\rTraining:   0%|          | 0/9 [00:00<?, ?it/s]<ipython-input-6-8d2e11b859f4>:330: FutureWarning: `torch.cuda.amp.autocast(args...)` is deprecated. Please use `torch.amp.autocast('cuda', args...)` instead.\n",
            "  with autocast():\n",
            "Training: 100%|██████████| 9/9 [00:02<00:00,  3.32it/s]\n",
            "Validating:   0%|          | 0/3 [00:00<?, ?it/s]<ipython-input-6-8d2e11b859f4>:366: FutureWarning: `torch.cuda.amp.autocast(args...)` is deprecated. Please use `torch.amp.autocast('cuda', args...)` instead.\n",
            "  with autocast():\n",
            "Validating: 100%|██████████| 3/3 [00:00<00:00,  4.86it/s]\n",
            "TTA Validating:   0%|          | 0/36 [00:00<?, ?it/s]<ipython-input-6-8d2e11b859f4>:400: FutureWarning: `torch.cuda.amp.autocast(args...)` is deprecated. Please use `torch.amp.autocast('cuda', args...)` instead.\n",
            "  with autocast():\n",
            "TTA Validating: 100%|██████████| 36/36 [00:04<00:00,  8.21it/s]\n"
          ]
        },
        {
          "output_type": "stream",
          "name": "stdout",
          "text": [
            "\n",
            "Epoch 30/200:\n",
            "Train Loss: 0.3280 | Train Acc: 83.33%\n",
            "Val Loss: 0.9573 | Val Acc: 50.00% | Val F1: 0.4775\n",
            "TTA Val Acc: 66.67% | TTA F1: 0.6432\n"
          ]
        },
        {
          "output_type": "stream",
          "name": "stderr",
          "text": [
            "\rTraining:   0%|          | 0/9 [00:00<?, ?it/s]<ipython-input-6-8d2e11b859f4>:330: FutureWarning: `torch.cuda.amp.autocast(args...)` is deprecated. Please use `torch.amp.autocast('cuda', args...)` instead.\n",
            "  with autocast():\n",
            "Training: 100%|██████████| 9/9 [00:03<00:00,  2.70it/s]\n",
            "Validating:   0%|          | 0/3 [00:00<?, ?it/s]<ipython-input-6-8d2e11b859f4>:366: FutureWarning: `torch.cuda.amp.autocast(args...)` is deprecated. Please use `torch.amp.autocast('cuda', args...)` instead.\n",
            "  with autocast():\n",
            "Validating: 100%|██████████| 3/3 [00:00<00:00,  3.49it/s]\n",
            "TTA Validating:   0%|          | 0/36 [00:00<?, ?it/s]<ipython-input-6-8d2e11b859f4>:400: FutureWarning: `torch.cuda.amp.autocast(args...)` is deprecated. Please use `torch.amp.autocast('cuda', args...)` instead.\n",
            "  with autocast():\n",
            "TTA Validating: 100%|██████████| 36/36 [00:04<00:00,  8.12it/s]\n"
          ]
        },
        {
          "output_type": "stream",
          "name": "stdout",
          "text": [
            "\n",
            "Epoch 31/200:\n",
            "Train Loss: 0.3435 | Train Acc: 79.86%\n",
            "Val Loss: 0.9888 | Val Acc: 50.00% | Val F1: 0.4913\n",
            "TTA Val Acc: 66.67% | TTA F1: 0.6548\n"
          ]
        },
        {
          "output_type": "stream",
          "name": "stderr",
          "text": [
            "Training:   0%|          | 0/9 [00:00<?, ?it/s]<ipython-input-6-8d2e11b859f4>:330: FutureWarning: `torch.cuda.amp.autocast(args...)` is deprecated. Please use `torch.amp.autocast('cuda', args...)` instead.\n",
            "  with autocast():\n",
            "Training: 100%|██████████| 9/9 [00:02<00:00,  3.44it/s]\n",
            "Validating:   0%|          | 0/3 [00:00<?, ?it/s]<ipython-input-6-8d2e11b859f4>:366: FutureWarning: `torch.cuda.amp.autocast(args...)` is deprecated. Please use `torch.amp.autocast('cuda', args...)` instead.\n",
            "  with autocast():\n",
            "Validating: 100%|██████████| 3/3 [00:00<00:00,  5.00it/s]\n",
            "TTA Validating:   0%|          | 0/36 [00:00<?, ?it/s]<ipython-input-6-8d2e11b859f4>:400: FutureWarning: `torch.cuda.amp.autocast(args...)` is deprecated. Please use `torch.amp.autocast('cuda', args...)` instead.\n",
            "  with autocast():\n",
            "TTA Validating: 100%|██████████| 36/36 [00:05<00:00,  7.07it/s]\n"
          ]
        },
        {
          "output_type": "stream",
          "name": "stdout",
          "text": [
            "\n",
            "Epoch 32/200:\n",
            "Train Loss: 0.3536 | Train Acc: 79.17%\n",
            "Val Loss: 1.0231 | Val Acc: 50.00% | Val F1: 0.4740\n",
            "TTA Val Acc: 66.67% | TTA F1: 0.6432\n"
          ]
        },
        {
          "output_type": "stream",
          "name": "stderr",
          "text": [
            "\rTraining:   0%|          | 0/9 [00:00<?, ?it/s]<ipython-input-6-8d2e11b859f4>:330: FutureWarning: `torch.cuda.amp.autocast(args...)` is deprecated. Please use `torch.amp.autocast('cuda', args...)` instead.\n",
            "  with autocast():\n",
            "Training: 100%|██████████| 9/9 [00:03<00:00,  2.83it/s]\n",
            "Validating:   0%|          | 0/3 [00:00<?, ?it/s]<ipython-input-6-8d2e11b859f4>:366: FutureWarning: `torch.cuda.amp.autocast(args...)` is deprecated. Please use `torch.amp.autocast('cuda', args...)` instead.\n",
            "  with autocast():\n",
            "Validating: 100%|██████████| 3/3 [00:00<00:00,  5.09it/s]\n",
            "TTA Validating:   0%|          | 0/36 [00:00<?, ?it/s]<ipython-input-6-8d2e11b859f4>:400: FutureWarning: `torch.cuda.amp.autocast(args...)` is deprecated. Please use `torch.amp.autocast('cuda', args...)` instead.\n",
            "  with autocast():\n",
            "TTA Validating: 100%|██████████| 36/36 [00:04<00:00,  8.53it/s]\n"
          ]
        },
        {
          "output_type": "stream",
          "name": "stdout",
          "text": [
            "\n",
            "Epoch 33/200:\n",
            "Train Loss: 0.4177 | Train Acc: 75.69%\n",
            "Val Loss: 1.0534 | Val Acc: 52.78% | Val F1: 0.4938\n",
            "TTA Val Acc: 63.89% | TTA F1: 0.6329\n"
          ]
        },
        {
          "output_type": "stream",
          "name": "stderr",
          "text": [
            "Training:   0%|          | 0/9 [00:00<?, ?it/s]<ipython-input-6-8d2e11b859f4>:330: FutureWarning: `torch.cuda.amp.autocast(args...)` is deprecated. Please use `torch.amp.autocast('cuda', args...)` instead.\n",
            "  with autocast():\n",
            "Training: 100%|██████████| 9/9 [00:02<00:00,  3.36it/s]\n",
            "Validating:   0%|          | 0/3 [00:00<?, ?it/s]<ipython-input-6-8d2e11b859f4>:366: FutureWarning: `torch.cuda.amp.autocast(args...)` is deprecated. Please use `torch.amp.autocast('cuda', args...)` instead.\n",
            "  with autocast():\n",
            "Validating: 100%|██████████| 3/3 [00:00<00:00,  4.77it/s]\n",
            "TTA Validating:   0%|          | 0/36 [00:00<?, ?it/s]<ipython-input-6-8d2e11b859f4>:400: FutureWarning: `torch.cuda.amp.autocast(args...)` is deprecated. Please use `torch.amp.autocast('cuda', args...)` instead.\n",
            "  with autocast():\n",
            "TTA Validating: 100%|██████████| 36/36 [00:05<00:00,  6.27it/s]\n"
          ]
        },
        {
          "output_type": "stream",
          "name": "stdout",
          "text": [
            "\n",
            "Epoch 34/200:\n",
            "Train Loss: 0.4278 | Train Acc: 74.31%\n",
            "Val Loss: 1.0476 | Val Acc: 47.22% | Val F1: 0.4610\n",
            "TTA Val Acc: 66.67% | TTA F1: 0.6606\n"
          ]
        },
        {
          "output_type": "stream",
          "name": "stderr",
          "text": [
            "\rTraining:   0%|          | 0/9 [00:00<?, ?it/s]<ipython-input-6-8d2e11b859f4>:330: FutureWarning: `torch.cuda.amp.autocast(args...)` is deprecated. Please use `torch.amp.autocast('cuda', args...)` instead.\n",
            "  with autocast():\n",
            "Training: 100%|██████████| 9/9 [00:02<00:00,  3.41it/s]\n",
            "Validating:   0%|          | 0/3 [00:00<?, ?it/s]<ipython-input-6-8d2e11b859f4>:366: FutureWarning: `torch.cuda.amp.autocast(args...)` is deprecated. Please use `torch.amp.autocast('cuda', args...)` instead.\n",
            "  with autocast():\n",
            "Validating: 100%|██████████| 3/3 [00:00<00:00,  5.04it/s]\n",
            "TTA Validating:   0%|          | 0/36 [00:00<?, ?it/s]<ipython-input-6-8d2e11b859f4>:400: FutureWarning: `torch.cuda.amp.autocast(args...)` is deprecated. Please use `torch.amp.autocast('cuda', args...)` instead.\n",
            "  with autocast():\n",
            "TTA Validating: 100%|██████████| 36/36 [00:04<00:00,  8.64it/s]\n"
          ]
        },
        {
          "output_type": "stream",
          "name": "stdout",
          "text": [
            "\n",
            "Epoch 35/200:\n",
            "Train Loss: 0.3270 | Train Acc: 78.47%\n",
            "Val Loss: 1.0239 | Val Acc: 52.78% | Val F1: 0.5109\n",
            "TTA Val Acc: 61.11% | TTA F1: 0.6041\n"
          ]
        },
        {
          "output_type": "stream",
          "name": "stderr",
          "text": [
            "\rTraining:   0%|          | 0/9 [00:00<?, ?it/s]<ipython-input-6-8d2e11b859f4>:330: FutureWarning: `torch.cuda.amp.autocast(args...)` is deprecated. Please use `torch.amp.autocast('cuda', args...)` instead.\n",
            "  with autocast():\n",
            "Training: 100%|██████████| 9/9 [00:03<00:00,  2.45it/s]\n",
            "Validating:   0%|          | 0/3 [00:00<?, ?it/s]<ipython-input-6-8d2e11b859f4>:366: FutureWarning: `torch.cuda.amp.autocast(args...)` is deprecated. Please use `torch.amp.autocast('cuda', args...)` instead.\n",
            "  with autocast():\n",
            "Validating: 100%|██████████| 3/3 [00:00<00:00,  3.50it/s]\n",
            "TTA Validating:   0%|          | 0/36 [00:00<?, ?it/s]<ipython-input-6-8d2e11b859f4>:400: FutureWarning: `torch.cuda.amp.autocast(args...)` is deprecated. Please use `torch.amp.autocast('cuda', args...)` instead.\n",
            "  with autocast():\n",
            "TTA Validating: 100%|██████████| 36/36 [00:04<00:00,  8.56it/s]\n"
          ]
        },
        {
          "output_type": "stream",
          "name": "stdout",
          "text": [
            "\n",
            "Epoch 36/200:\n",
            "Train Loss: 0.3416 | Train Acc: 79.86%\n",
            "Val Loss: 0.9698 | Val Acc: 50.00% | Val F1: 0.4953\n",
            "TTA Val Acc: 58.33% | TTA F1: 0.5806\n"
          ]
        },
        {
          "output_type": "stream",
          "name": "stderr",
          "text": [
            "\rTraining:   0%|          | 0/9 [00:00<?, ?it/s]<ipython-input-6-8d2e11b859f4>:330: FutureWarning: `torch.cuda.amp.autocast(args...)` is deprecated. Please use `torch.amp.autocast('cuda', args...)` instead.\n",
            "  with autocast():\n",
            "Training: 100%|██████████| 9/9 [00:02<00:00,  3.47it/s]\n",
            "Validating:   0%|          | 0/3 [00:00<?, ?it/s]<ipython-input-6-8d2e11b859f4>:366: FutureWarning: `torch.cuda.amp.autocast(args...)` is deprecated. Please use `torch.amp.autocast('cuda', args...)` instead.\n",
            "  with autocast():\n",
            "Validating: 100%|██████████| 3/3 [00:00<00:00,  4.86it/s]\n",
            "TTA Validating:   0%|          | 0/36 [00:00<?, ?it/s]<ipython-input-6-8d2e11b859f4>:400: FutureWarning: `torch.cuda.amp.autocast(args...)` is deprecated. Please use `torch.amp.autocast('cuda', args...)` instead.\n",
            "  with autocast():\n",
            "TTA Validating: 100%|██████████| 36/36 [00:05<00:00,  6.69it/s]\n"
          ]
        },
        {
          "output_type": "stream",
          "name": "stdout",
          "text": [
            "\n",
            "Epoch 37/200:\n",
            "Train Loss: 0.3257 | Train Acc: 81.25%\n",
            "Val Loss: 1.1162 | Val Acc: 47.22% | Val F1: 0.4555\n",
            "TTA Val Acc: 66.67% | TTA F1: 0.6655\n"
          ]
        },
        {
          "output_type": "stream",
          "name": "stderr",
          "text": [
            "\rTraining:   0%|          | 0/9 [00:00<?, ?it/s]<ipython-input-6-8d2e11b859f4>:330: FutureWarning: `torch.cuda.amp.autocast(args...)` is deprecated. Please use `torch.amp.autocast('cuda', args...)` instead.\n",
            "  with autocast():\n",
            "Training: 100%|██████████| 9/9 [00:03<00:00,  3.00it/s]\n",
            "Validating:   0%|          | 0/3 [00:00<?, ?it/s]<ipython-input-6-8d2e11b859f4>:366: FutureWarning: `torch.cuda.amp.autocast(args...)` is deprecated. Please use `torch.amp.autocast('cuda', args...)` instead.\n",
            "  with autocast():\n",
            "Validating: 100%|██████████| 3/3 [00:00<00:00,  4.81it/s]\n",
            "TTA Validating:   0%|          | 0/36 [00:00<?, ?it/s]<ipython-input-6-8d2e11b859f4>:400: FutureWarning: `torch.cuda.amp.autocast(args...)` is deprecated. Please use `torch.amp.autocast('cuda', args...)` instead.\n",
            "  with autocast():\n",
            "TTA Validating: 100%|██████████| 36/36 [00:04<00:00,  8.64it/s]\n"
          ]
        },
        {
          "output_type": "stream",
          "name": "stdout",
          "text": [
            "\n",
            "Epoch 38/200:\n",
            "Train Loss: 0.4158 | Train Acc: 76.39%\n",
            "Val Loss: 1.1559 | Val Acc: 44.44% | Val F1: 0.4402\n",
            "TTA Val Acc: 63.89% | TTA F1: 0.6279\n"
          ]
        },
        {
          "output_type": "stream",
          "name": "stderr",
          "text": [
            "\rTraining:   0%|          | 0/9 [00:00<?, ?it/s]<ipython-input-6-8d2e11b859f4>:330: FutureWarning: `torch.cuda.amp.autocast(args...)` is deprecated. Please use `torch.amp.autocast('cuda', args...)` instead.\n",
            "  with autocast():\n",
            "Training: 100%|██████████| 9/9 [00:02<00:00,  3.41it/s]\n",
            "Validating:   0%|          | 0/3 [00:00<?, ?it/s]<ipython-input-6-8d2e11b859f4>:366: FutureWarning: `torch.cuda.amp.autocast(args...)` is deprecated. Please use `torch.amp.autocast('cuda', args...)` instead.\n",
            "  with autocast():\n",
            "Validating: 100%|██████████| 3/3 [00:00<00:00,  5.18it/s]\n",
            "TTA Validating:   0%|          | 0/36 [00:00<?, ?it/s]<ipython-input-6-8d2e11b859f4>:400: FutureWarning: `torch.cuda.amp.autocast(args...)` is deprecated. Please use `torch.amp.autocast('cuda', args...)` instead.\n",
            "  with autocast():\n",
            "TTA Validating: 100%|██████████| 36/36 [00:05<00:00,  6.23it/s]\n"
          ]
        },
        {
          "output_type": "stream",
          "name": "stdout",
          "text": [
            "\n",
            "Epoch 39/200:\n",
            "Train Loss: 0.3403 | Train Acc: 81.94%\n",
            "Val Loss: 1.0841 | Val Acc: 58.33% | Val F1: 0.5281\n",
            "TTA Val Acc: 69.44% | TTA F1: 0.6843\n"
          ]
        },
        {
          "output_type": "stream",
          "name": "stderr",
          "text": [
            "\rTraining:   0%|          | 0/9 [00:00<?, ?it/s]<ipython-input-6-8d2e11b859f4>:330: FutureWarning: `torch.cuda.amp.autocast(args...)` is deprecated. Please use `torch.amp.autocast('cuda', args...)` instead.\n",
            "  with autocast():\n",
            "Training: 100%|██████████| 9/9 [00:02<00:00,  3.45it/s]\n",
            "Validating:   0%|          | 0/3 [00:00<?, ?it/s]<ipython-input-6-8d2e11b859f4>:366: FutureWarning: `torch.cuda.amp.autocast(args...)` is deprecated. Please use `torch.amp.autocast('cuda', args...)` instead.\n",
            "  with autocast():\n",
            "Validating: 100%|██████████| 3/3 [00:00<00:00,  4.74it/s]\n",
            "TTA Validating:   0%|          | 0/36 [00:00<?, ?it/s]<ipython-input-6-8d2e11b859f4>:400: FutureWarning: `torch.cuda.amp.autocast(args...)` is deprecated. Please use `torch.amp.autocast('cuda', args...)` instead.\n",
            "  with autocast():\n",
            "TTA Validating: 100%|██████████| 36/36 [00:04<00:00,  8.56it/s]\n"
          ]
        },
        {
          "output_type": "stream",
          "name": "stdout",
          "text": [
            "\n",
            "Epoch 40/200:\n",
            "Train Loss: 0.3535 | Train Acc: 81.25%\n",
            "Val Loss: 1.1932 | Val Acc: 52.78% | Val F1: 0.5297\n",
            "TTA Val Acc: 61.11% | TTA F1: 0.6036\n"
          ]
        },
        {
          "output_type": "stream",
          "name": "stderr",
          "text": [
            "\rTraining:   0%|          | 0/9 [00:00<?, ?it/s]<ipython-input-6-8d2e11b859f4>:330: FutureWarning: `torch.cuda.amp.autocast(args...)` is deprecated. Please use `torch.amp.autocast('cuda', args...)` instead.\n",
            "  with autocast():\n",
            "Training: 100%|██████████| 9/9 [00:03<00:00,  2.39it/s]\n",
            "Validating:   0%|          | 0/3 [00:00<?, ?it/s]<ipython-input-6-8d2e11b859f4>:366: FutureWarning: `torch.cuda.amp.autocast(args...)` is deprecated. Please use `torch.amp.autocast('cuda', args...)` instead.\n",
            "  with autocast():\n",
            "Validating: 100%|██████████| 3/3 [00:00<00:00,  3.71it/s]\n",
            "TTA Validating:   0%|          | 0/36 [00:00<?, ?it/s]<ipython-input-6-8d2e11b859f4>:400: FutureWarning: `torch.cuda.amp.autocast(args...)` is deprecated. Please use `torch.amp.autocast('cuda', args...)` instead.\n",
            "  with autocast():\n",
            "TTA Validating: 100%|██████████| 36/36 [00:04<00:00,  8.36it/s]\n"
          ]
        },
        {
          "output_type": "stream",
          "name": "stdout",
          "text": [
            "\n",
            "Epoch 41/200:\n",
            "Train Loss: 0.3912 | Train Acc: 73.61%\n",
            "Val Loss: 1.4928 | Val Acc: 44.44% | Val F1: 0.4276\n",
            "TTA Val Acc: 69.44% | TTA F1: 0.6758\n"
          ]
        },
        {
          "output_type": "stream",
          "name": "stderr",
          "text": [
            "\rTraining:   0%|          | 0/9 [00:00<?, ?it/s]<ipython-input-6-8d2e11b859f4>:330: FutureWarning: `torch.cuda.amp.autocast(args...)` is deprecated. Please use `torch.amp.autocast('cuda', args...)` instead.\n",
            "  with autocast():\n",
            "Training: 100%|██████████| 9/9 [00:02<00:00,  3.41it/s]\n",
            "Validating:   0%|          | 0/3 [00:00<?, ?it/s]<ipython-input-6-8d2e11b859f4>:366: FutureWarning: `torch.cuda.amp.autocast(args...)` is deprecated. Please use `torch.amp.autocast('cuda', args...)` instead.\n",
            "  with autocast():\n",
            "Validating: 100%|██████████| 3/3 [00:00<00:00,  4.96it/s]\n",
            "TTA Validating:   0%|          | 0/36 [00:00<?, ?it/s]<ipython-input-6-8d2e11b859f4>:400: FutureWarning: `torch.cuda.amp.autocast(args...)` is deprecated. Please use `torch.amp.autocast('cuda', args...)` instead.\n",
            "  with autocast():\n",
            "TTA Validating: 100%|██████████| 36/36 [00:05<00:00,  6.66it/s]\n"
          ]
        },
        {
          "output_type": "stream",
          "name": "stdout",
          "text": [
            "\n",
            "Epoch 42/200:\n",
            "Train Loss: 0.3892 | Train Acc: 77.78%\n",
            "Val Loss: 1.3186 | Val Acc: 52.78% | Val F1: 0.5137\n",
            "TTA Val Acc: 66.67% | TTA F1: 0.6498\n"
          ]
        },
        {
          "output_type": "stream",
          "name": "stderr",
          "text": [
            "Training:   0%|          | 0/9 [00:00<?, ?it/s]<ipython-input-6-8d2e11b859f4>:330: FutureWarning: `torch.cuda.amp.autocast(args...)` is deprecated. Please use `torch.amp.autocast('cuda', args...)` instead.\n",
            "  with autocast():\n",
            "Training: 100%|██████████| 9/9 [00:02<00:00,  3.12it/s]\n",
            "Validating:   0%|          | 0/3 [00:00<?, ?it/s]<ipython-input-6-8d2e11b859f4>:366: FutureWarning: `torch.cuda.amp.autocast(args...)` is deprecated. Please use `torch.amp.autocast('cuda', args...)` instead.\n",
            "  with autocast():\n",
            "Validating: 100%|██████████| 3/3 [00:00<00:00,  5.03it/s]\n",
            "TTA Validating:   0%|          | 0/36 [00:00<?, ?it/s]<ipython-input-6-8d2e11b859f4>:400: FutureWarning: `torch.cuda.amp.autocast(args...)` is deprecated. Please use `torch.amp.autocast('cuda', args...)` instead.\n",
            "  with autocast():\n",
            "TTA Validating: 100%|██████████| 36/36 [00:04<00:00,  8.57it/s]\n"
          ]
        },
        {
          "output_type": "stream",
          "name": "stdout",
          "text": [
            "\n",
            "Epoch 43/200:\n",
            "Train Loss: 0.3124 | Train Acc: 81.94%\n",
            "Val Loss: 1.2462 | Val Acc: 52.78% | Val F1: 0.5137\n",
            "TTA Val Acc: 61.11% | TTA F1: 0.6096\n"
          ]
        },
        {
          "output_type": "stream",
          "name": "stderr",
          "text": [
            "\rTraining:   0%|          | 0/9 [00:00<?, ?it/s]<ipython-input-6-8d2e11b859f4>:330: FutureWarning: `torch.cuda.amp.autocast(args...)` is deprecated. Please use `torch.amp.autocast('cuda', args...)` instead.\n",
            "  with autocast():\n",
            "Training: 100%|██████████| 9/9 [00:02<00:00,  3.45it/s]\n",
            "Validating:   0%|          | 0/3 [00:00<?, ?it/s]<ipython-input-6-8d2e11b859f4>:366: FutureWarning: `torch.cuda.amp.autocast(args...)` is deprecated. Please use `torch.amp.autocast('cuda', args...)` instead.\n",
            "  with autocast():\n",
            "Validating: 100%|██████████| 3/3 [00:00<00:00,  4.66it/s]\n",
            "TTA Validating:   0%|          | 0/36 [00:00<?, ?it/s]<ipython-input-6-8d2e11b859f4>:400: FutureWarning: `torch.cuda.amp.autocast(args...)` is deprecated. Please use `torch.amp.autocast('cuda', args...)` instead.\n",
            "  with autocast():\n",
            "TTA Validating: 100%|██████████| 36/36 [00:05<00:00,  6.37it/s]\n"
          ]
        },
        {
          "output_type": "stream",
          "name": "stdout",
          "text": [
            "\n",
            "Epoch 44/200:\n",
            "Train Loss: 0.3731 | Train Acc: 74.31%\n",
            "Val Loss: 1.2413 | Val Acc: 58.33% | Val F1: 0.5819\n",
            "TTA Val Acc: 66.67% | TTA F1: 0.6591\n"
          ]
        },
        {
          "output_type": "stream",
          "name": "stderr",
          "text": [
            "\rTraining:   0%|          | 0/9 [00:00<?, ?it/s]<ipython-input-6-8d2e11b859f4>:330: FutureWarning: `torch.cuda.amp.autocast(args...)` is deprecated. Please use `torch.amp.autocast('cuda', args...)` instead.\n",
            "  with autocast():\n",
            "Training: 100%|██████████| 9/9 [00:02<00:00,  3.36it/s]\n",
            "Validating:   0%|          | 0/3 [00:00<?, ?it/s]<ipython-input-6-8d2e11b859f4>:366: FutureWarning: `torch.cuda.amp.autocast(args...)` is deprecated. Please use `torch.amp.autocast('cuda', args...)` instead.\n",
            "  with autocast():\n",
            "Validating: 100%|██████████| 3/3 [00:00<00:00,  4.80it/s]\n",
            "TTA Validating:   0%|          | 0/36 [00:00<?, ?it/s]<ipython-input-6-8d2e11b859f4>:400: FutureWarning: `torch.cuda.amp.autocast(args...)` is deprecated. Please use `torch.amp.autocast('cuda', args...)` instead.\n",
            "  with autocast():\n",
            "TTA Validating: 100%|██████████| 36/36 [00:04<00:00,  8.53it/s]\n"
          ]
        },
        {
          "output_type": "stream",
          "name": "stdout",
          "text": [
            "\n",
            "Epoch 45/200:\n",
            "Train Loss: 0.2921 | Train Acc: 83.33%\n",
            "Val Loss: 1.1974 | Val Acc: 55.56% | Val F1: 0.5561\n",
            "TTA Val Acc: 63.89% | TTA F1: 0.6348\n"
          ]
        },
        {
          "output_type": "stream",
          "name": "stderr",
          "text": [
            "\rTraining:   0%|          | 0/9 [00:00<?, ?it/s]<ipython-input-6-8d2e11b859f4>:330: FutureWarning: `torch.cuda.amp.autocast(args...)` is deprecated. Please use `torch.amp.autocast('cuda', args...)` instead.\n",
            "  with autocast():\n",
            "Training: 100%|██████████| 9/9 [00:03<00:00,  2.28it/s]\n",
            "Validating:   0%|          | 0/3 [00:00<?, ?it/s]<ipython-input-6-8d2e11b859f4>:366: FutureWarning: `torch.cuda.amp.autocast(args...)` is deprecated. Please use `torch.amp.autocast('cuda', args...)` instead.\n",
            "  with autocast():\n",
            "Validating: 100%|██████████| 3/3 [00:00<00:00,  4.54it/s]\n",
            "TTA Validating:   0%|          | 0/36 [00:00<?, ?it/s]<ipython-input-6-8d2e11b859f4>:400: FutureWarning: `torch.cuda.amp.autocast(args...)` is deprecated. Please use `torch.amp.autocast('cuda', args...)` instead.\n",
            "  with autocast():\n",
            "TTA Validating: 100%|██████████| 36/36 [00:04<00:00,  8.60it/s]\n"
          ]
        },
        {
          "output_type": "stream",
          "name": "stdout",
          "text": [
            "\n",
            "Epoch 46/200:\n",
            "Train Loss: 0.2933 | Train Acc: 84.03%\n",
            "Val Loss: 1.2712 | Val Acc: 44.44% | Val F1: 0.4292\n",
            "TTA Val Acc: 61.11% | TTA F1: 0.6028\n"
          ]
        },
        {
          "output_type": "stream",
          "name": "stderr",
          "text": [
            "\rTraining:   0%|          | 0/9 [00:00<?, ?it/s]<ipython-input-6-8d2e11b859f4>:330: FutureWarning: `torch.cuda.amp.autocast(args...)` is deprecated. Please use `torch.amp.autocast('cuda', args...)` instead.\n",
            "  with autocast():\n",
            "Training: 100%|██████████| 9/9 [00:02<00:00,  3.46it/s]\n",
            "Validating:   0%|          | 0/3 [00:00<?, ?it/s]<ipython-input-6-8d2e11b859f4>:366: FutureWarning: `torch.cuda.amp.autocast(args...)` is deprecated. Please use `torch.amp.autocast('cuda', args...)` instead.\n",
            "  with autocast():\n",
            "Validating: 100%|██████████| 3/3 [00:00<00:00,  4.95it/s]\n",
            "TTA Validating:   0%|          | 0/36 [00:00<?, ?it/s]<ipython-input-6-8d2e11b859f4>:400: FutureWarning: `torch.cuda.amp.autocast(args...)` is deprecated. Please use `torch.amp.autocast('cuda', args...)` instead.\n",
            "  with autocast():\n",
            "TTA Validating: 100%|██████████| 36/36 [00:05<00:00,  6.17it/s]\n"
          ]
        },
        {
          "output_type": "stream",
          "name": "stdout",
          "text": [
            "\n",
            "Epoch 47/200:\n",
            "Train Loss: 0.3170 | Train Acc: 83.33%\n",
            "Val Loss: 1.2238 | Val Acc: 47.22% | Val F1: 0.4509\n",
            "TTA Val Acc: 61.11% | TTA F1: 0.6028\n"
          ]
        },
        {
          "output_type": "stream",
          "name": "stderr",
          "text": [
            "Training:   0%|          | 0/9 [00:00<?, ?it/s]<ipython-input-6-8d2e11b859f4>:330: FutureWarning: `torch.cuda.amp.autocast(args...)` is deprecated. Please use `torch.amp.autocast('cuda', args...)` instead.\n",
            "  with autocast():\n",
            "Training: 100%|██████████| 9/9 [00:02<00:00,  3.34it/s]\n",
            "Validating:   0%|          | 0/3 [00:00<?, ?it/s]<ipython-input-6-8d2e11b859f4>:366: FutureWarning: `torch.cuda.amp.autocast(args...)` is deprecated. Please use `torch.amp.autocast('cuda', args...)` instead.\n",
            "  with autocast():\n",
            "Validating: 100%|██████████| 3/3 [00:00<00:00,  4.97it/s]\n",
            "TTA Validating:   0%|          | 0/36 [00:00<?, ?it/s]<ipython-input-6-8d2e11b859f4>:400: FutureWarning: `torch.cuda.amp.autocast(args...)` is deprecated. Please use `torch.amp.autocast('cuda', args...)` instead.\n",
            "  with autocast():\n",
            "TTA Validating: 100%|██████████| 36/36 [00:04<00:00,  8.33it/s]\n"
          ]
        },
        {
          "output_type": "stream",
          "name": "stdout",
          "text": [
            "\n",
            "Epoch 48/200:\n",
            "Train Loss: 0.2999 | Train Acc: 81.25%\n",
            "Val Loss: 1.1818 | Val Acc: 44.44% | Val F1: 0.4263\n",
            "TTA Val Acc: 61.11% | TTA F1: 0.6028\n"
          ]
        },
        {
          "output_type": "stream",
          "name": "stderr",
          "text": [
            "\rTraining:   0%|          | 0/9 [00:00<?, ?it/s]<ipython-input-6-8d2e11b859f4>:330: FutureWarning: `torch.cuda.amp.autocast(args...)` is deprecated. Please use `torch.amp.autocast('cuda', args...)` instead.\n",
            "  with autocast():\n",
            "Training: 100%|██████████| 9/9 [00:02<00:00,  3.39it/s]\n",
            "Validating:   0%|          | 0/3 [00:00<?, ?it/s]<ipython-input-6-8d2e11b859f4>:366: FutureWarning: `torch.cuda.amp.autocast(args...)` is deprecated. Please use `torch.amp.autocast('cuda', args...)` instead.\n",
            "  with autocast():\n",
            "Validating: 100%|██████████| 3/3 [00:00<00:00,  3.38it/s]\n",
            "TTA Validating:   0%|          | 0/36 [00:00<?, ?it/s]<ipython-input-6-8d2e11b859f4>:400: FutureWarning: `torch.cuda.amp.autocast(args...)` is deprecated. Please use `torch.amp.autocast('cuda', args...)` instead.\n",
            "  with autocast():\n",
            "TTA Validating: 100%|██████████| 36/36 [00:05<00:00,  6.78it/s]\n"
          ]
        },
        {
          "output_type": "stream",
          "name": "stdout",
          "text": [
            "\n",
            "Epoch 49/200:\n",
            "Train Loss: 0.3272 | Train Acc: 77.78%\n",
            "Val Loss: 1.1523 | Val Acc: 50.00% | Val F1: 0.4763\n",
            "TTA Val Acc: 61.11% | TTA F1: 0.6028\n",
            "Early stopping at epoch 49\n"
          ]
        },
        {
          "output_type": "display_data",
          "data": {
            "text/plain": [
              "<Figure size 1200x500 with 2 Axes>"
            ],
            "image/png": "[encoded data removed]"
          },
          "metadata": {}
        },
        {
          "output_type": "stream",
          "name": "stdout",
          "text": [
            "\n",
            "=== Final Evaluation ===\n"
          ]
        },
        {
          "output_type": "stream",
          "name": "stderr",
          "text": [
            "Evaluating Training:   0%|          | 0/9 [00:00<?, ?it/s]<ipython-input-6-8d2e11b859f4>:506: FutureWarning: `torch.cuda.amp.autocast(args...)` is deprecated. Please use `torch.amp.autocast('cuda', args...)` instead.\n",
            "  with autocast():\n",
            "Evaluating Training: 100%|██████████| 9/9 [00:02<00:00,  3.75it/s]\n"
          ]
        },
        {
          "output_type": "stream",
          "name": "stdout",
          "text": [
            "\n",
            "Standard Training Set Evaluation:\n",
            "Accuracy: 85.42%\n",
            "F1 Score: 0.8521\n",
            "\n",
            "Classification Report:\n",
            "              precision    recall  f1-score   support\n",
            "\n",
            "      Normal     0.8571    0.8276    0.8421        58\n",
            " osteophenia     0.8421    0.7619    0.8000        42\n",
            "osteoporosis     0.8600    0.9773    0.9149        44\n",
            "\n",
            "    accuracy                         0.8542       144\n",
            "   macro avg     0.8531    0.8556    0.8523       144\n",
            "weighted avg     0.8536    0.8542    0.8521       144\n",
            "\n",
            "\n",
            "Confusion Matrix:\n",
            "[[48  5  5]\n",
            " [ 8 32  2]\n",
            " [ 0  1 43]]\n"
          ]
        },
        {
          "output_type": "stream",
          "name": "stderr",
          "text": [
            "Evaluating Validation:   0%|          | 0/3 [00:00<?, ?it/s]<ipython-input-6-8d2e11b859f4>:506: FutureWarning: `torch.cuda.amp.autocast(args...)` is deprecated. Please use `torch.amp.autocast('cuda', args...)` instead.\n",
            "  with autocast():\n",
            "Evaluating Validation: 100%|██████████| 3/3 [00:00<00:00,  4.68it/s]\n"
          ]
        },
        {
          "output_type": "stream",
          "name": "stdout",
          "text": [
            "\n",
            "Standard Validation Set Evaluation:\n",
            "Accuracy: 50.00%\n",
            "F1 Score: 0.4798\n",
            "\n",
            "Classification Report:\n",
            "              precision    recall  f1-score   support\n",
            "\n",
            "      Normal     0.7273    0.6667    0.6957        12\n",
            " osteophenia     0.2857    0.1667    0.2105        12\n",
            "osteoporosis     0.4444    0.6667    0.5333        12\n",
            "\n",
            "    accuracy                         0.5000        36\n",
            "   macro avg     0.4858    0.5000    0.4798        36\n",
            "weighted avg     0.4858    0.5000    0.4798        36\n",
            "\n",
            "\n",
            "Confusion Matrix:\n",
            "[[8 2 2]\n",
            " [2 2 8]\n",
            " [1 3 8]]\n"
          ]
        },
        {
          "output_type": "stream",
          "name": "stderr",
          "text": [
            "TTA Validation:   0%|          | 0/36 [00:00<?, ?it/s]<ipython-input-6-8d2e11b859f4>:539: FutureWarning: `torch.cuda.amp.autocast(args...)` is deprecated. Please use `torch.amp.autocast('cuda', args...)` instead.\n",
            "  with autocast():\n",
            "TTA Validation: 100%|██████████| 36/36 [00:04<00:00,  8.23it/s]"
          ]
        },
        {
          "output_type": "stream",
          "name": "stdout",
          "text": [
            "\n",
            "TTA Validation Set Evaluation:\n",
            "Accuracy: 69.44%\n",
            "F1 Score: 0.6838\n",
            "\n",
            "Classification Report:\n",
            "              precision    recall  f1-score   support\n",
            "\n",
            "      Normal     0.9000    0.7500    0.8182        12\n",
            " osteophenia     0.6250    0.4167    0.5000        12\n",
            "osteoporosis     0.6111    0.9167    0.7333        12\n",
            "\n",
            "    accuracy                         0.6944        36\n",
            "   macro avg     0.7120    0.6944    0.6838        36\n",
            "weighted avg     0.7120    0.6944    0.6838        36\n",
            "\n",
            "\n",
            "Confusion Matrix:\n",
            "[[ 9  2  1]\n",
            " [ 1  5  6]\n",
            " [ 0  1 11]]\n",
            "\n",
            "=== PROCESS COMPLETED SUCCESSFULLY ===\n",
            "Final Validation Accuracy: 69.44%\n"
          ]
        },
        {
          "output_type": "stream",
          "name": "stderr",
          "text": [
            "\n"
          ]
        }
      ],
      "source": [
        "# Install required packages\n",
        "!pip install torch torchvision torchaudio --extra-index-url https://download.pytorch.org/whl/cu118\n",
        "!pip install opencv-python scikit-learn pandas matplotlib numpy imbalanced-learn\n",
        "!pip install albumentations tqdm timm\n",
        "\n",
        "import os\n",
        "import numpy as np\n",
        "import pandas as pd\n",
        "import matplotlib.pyplot as plt\n",
        "import cv2\n",
        "from sklearn.model_selection import train_test_split, StratifiedKFold\n",
        "from sklearn.metrics import accuracy_score, classification_report, confusion_matrix, f1_score\n",
        "from sklearn.preprocessing import StandardScaler\n",
        "from imblearn.over_sampling import RandomOverSampler\n",
        "from google.colab import drive\n",
        "from tqdm import tqdm\n",
        "import albumentations as A\n",
        "from albumentations.pytorch import ToTensorV2\n",
        "import torch\n",
        "import torch.nn as nn\n",
        "import torch.optim as optim\n",
        "from torch.utils.data import Dataset, DataLoader\n",
        "from torchvision import models\n",
        "from torch.cuda.amp import GradScaler, autocast\n",
        "import timm\n",
        "from torch.optim.lr_scheduler import ReduceLROnPlateau, CosineAnnealingWarmRestarts\n",
        "\n",
        "# Set random seeds for reproducibility\n",
        "np.random.seed(42)\n",
        "torch.manual_seed(42)\n",
        "if torch.cuda.is_available():\n",
        "    torch.cuda.manual_seed_all(42)\n",
        "    torch.backends.cudnn.deterministic = True\n",
        "    torch.backends.cudnn.benchmark = True\n",
        "\n",
        "# Mount Google Drive\n",
        "drive.mount('/content/drive')\n",
        "\n",
        "# Enhanced Configuration\n",
        "class Config:\n",
        "    BASE_PATH = \"/content/drive/MyDrive/osteoporosis/Fixed image for training CNN models\"\n",
        "    CLASSES = ['Normal', 'osteophenia', 'osteoporosis']\n",
        "    IMAGE_SIZE = (384, 384)  # Balanced size for performance and accuracy\n",
        "    BATCH_SIZE = 16  # Optimal batch size\n",
        "    NUM_EPOCHS = 100\n",
        "    LEARNING_RATE = 0.001\n",
        "    NUM_CLASSES = 3\n",
        "    EARLY_STOPPING_PATIENCE = 15\n",
        "    TTA_NUM = 10\n",
        "    DROPOUT_RATE = 0.3\n",
        "    WEIGHT_DECAY = 1e-5\n",
        "    NUM_WORKERS = 2\n",
        "\n",
        "config = Config()\n",
        "\n",
        "# Advanced Data Augmentation\n",
        "train_transform = A.Compose([\n",
        "    A.Resize(*config.IMAGE_SIZE),\n",
        "    A.HorizontalFlip(p=0.5),\n",
        "    A.VerticalFlip(p=0.5),\n",
        "    A.Rotate(limit=45, p=0.7),\n",
        "    A.ShiftScaleRotate(shift_limit=0.1, scale_limit=0.2, rotate_limit=30, p=0.7),\n",
        "    A.RandomBrightnessContrast(brightness_limit=0.2, contrast_limit=0.2, p=0.5),\n",
        "    A.GaussianBlur(blur_limit=(3, 7), p=0.3),\n",
        "    A.GaussNoise(var_limit=(10.0, 30.0), p=0.3),\n",
        "    A.CoarseDropout(max_holes=8, max_height=32, max_width=32, p=0.3),\n",
        "    A.Normalize(mean=(0.485, 0.456, 0.406), std=(0.229, 0.224, 0.225)),\n",
        "    ToTensorV2()\n",
        "])\n",
        "\n",
        "val_transform = A.Compose([\n",
        "    A.Resize(*config.IMAGE_SIZE),\n",
        "    A.Normalize(mean=(0.485, 0.456, 0.406), std=(0.229, 0.224, 0.225)),\n",
        "    ToTensorV2()\n",
        "])\n",
        "\n",
        "# Dataset Class with Error Handling\n",
        "class BoneDensityDataset(Dataset):\n",
        "    def __init__(self, root_dir, classes, transform=None, tta=False):\n",
        "        self.root_dir = root_dir\n",
        "        self.classes = classes\n",
        "        self.transform = transform\n",
        "        self.tta = tta\n",
        "        self.image_paths = []\n",
        "        self.labels = []\n",
        "\n",
        "        for class_idx, class_name in enumerate(self.classes):\n",
        "            class_dir = os.path.join(root_dir, class_name)\n",
        "            if not os.path.exists(class_dir):\n",
        "                print(f\"Warning: Directory not found - {class_dir}\")\n",
        "                continue\n",
        "\n",
        "            for img_name in os.listdir(class_dir):\n",
        "                if img_name.lower().endswith(('.png', '.jpg', '.jpeg')):\n",
        "                    img_path = os.path.join(class_dir, img_name)\n",
        "                    self.image_paths.append(img_path)\n",
        "                    self.labels.append(class_idx)\n",
        "\n",
        "    def __len__(self):\n",
        "        return len(self.image_paths)\n",
        "\n",
        "    def __getitem__(self, idx):\n",
        "        img_path = self.image_paths[idx]\n",
        "        label = self.labels[idx]\n",
        "\n",
        "        try:\n",
        "            image = cv2.imread(img_path)\n",
        "            if image is None:\n",
        "                raise ValueError(f\"Could not read image {img_path}\")\n",
        "\n",
        "            image = cv2.cvtColor(image, cv2.COLOR_BGR2RGB)\n",
        "\n",
        "            if self.transform:\n",
        "                if self.tta:\n",
        "                    images = [self.transform(image=image)['image'] for _ in range(config.TTA_NUM)]\n",
        "                    return images, torch.tensor(label, dtype=torch.long)  # Ensure label is long type\n",
        "                else:\n",
        "                    image = self.transform(image=image)['image']\n",
        "                    return image, torch.tensor(label, dtype=torch.long)  # Ensure label is long type\n",
        "            return image, torch.tensor(label, dtype=torch.long)  # Ensure label is long type\n",
        "        except Exception as e:\n",
        "            print(f\"Error loading {img_path}: {str(e)}\")\n",
        "            dummy = torch.zeros((3, *config.IMAGE_SIZE), dtype=torch.float32)\n",
        "            return (dummy, torch.tensor(0, dtype=torch.long)) if not self.tta else ([dummy]*config.TTA_NUM, torch.tensor(0, dtype=torch.long))\n",
        "\n",
        "# Initialize datasets\n",
        "print(\"Loading datasets...\")\n",
        "full_dataset = BoneDensityDataset(\n",
        "    root_dir=config.BASE_PATH,\n",
        "    classes=config.CLASSES,\n",
        "    transform=train_transform\n",
        ")\n",
        "\n",
        "# Print class distribution\n",
        "print(\"\\nClass Distribution:\")\n",
        "class_counts = np.unique(full_dataset.labels, return_counts=True)\n",
        "for class_idx, count in zip(class_counts[0], class_counts[1]):\n",
        "    print(f\"{config.CLASSES[class_idx]}: {count} images\")\n",
        "\n",
        "# Handle class imbalance with oversampling\n",
        "print(\"\\nBalancing dataset...\")\n",
        "ros = RandomOverSampler(random_state=42)\n",
        "indices = np.arange(len(full_dataset)).reshape(-1, 1)\n",
        "resampled_indices, _ = ros.fit_resample(indices, full_dataset.labels)\n",
        "\n",
        "# Create balanced dataset\n",
        "balanced_dataset = torch.utils.data.Subset(full_dataset, resampled_indices.squeeze())\n",
        "\n",
        "# Stratified split\n",
        "from sklearn.model_selection import StratifiedShuffleSplit\n",
        "sss = StratifiedShuffleSplit(n_splits=1, test_size=0.2, random_state=42)\n",
        "train_indices, val_indices = next(sss.split(resampled_indices, [full_dataset.labels[i] for i in resampled_indices.squeeze()]))\n",
        "\n",
        "train_dataset = torch.utils.data.Subset(balanced_dataset, train_indices)\n",
        "val_dataset = torch.utils.data.Subset(\n",
        "    BoneDensityDataset(\n",
        "        root_dir=config.BASE_PATH,\n",
        "        classes=config.CLASSES,\n",
        "        transform=val_transform\n",
        "    ),\n",
        "    val_indices\n",
        ")\n",
        "\n",
        "# TTA validation dataset\n",
        "tta_val_dataset = torch.utils.data.Subset(\n",
        "    BoneDensityDataset(\n",
        "        root_dir=config.BASE_PATH,\n",
        "        classes=config.CLASSES,\n",
        "        transform=train_transform,\n",
        "        tta=True\n",
        "    ),\n",
        "    val_indices\n",
        ")\n",
        "\n",
        "# Data loaders\n",
        "train_loader = DataLoader(\n",
        "    train_dataset,\n",
        "    batch_size=config.BATCH_SIZE,\n",
        "    shuffle=True,\n",
        "    num_workers=config.NUM_WORKERS,\n",
        "    pin_memory=True\n",
        ")\n",
        "\n",
        "val_loader = DataLoader(\n",
        "    val_dataset,\n",
        "    batch_size=config.BATCH_SIZE,\n",
        "    shuffle=False,\n",
        "    num_workers=config.NUM_WORKERS,\n",
        "    pin_memory=True\n",
        ")\n",
        "\n",
        "tta_val_loader = DataLoader(\n",
        "    tta_val_dataset,\n",
        "    batch_size=1,\n",
        "    shuffle=False,\n",
        "    num_workers=config.NUM_WORKERS,\n",
        "    pin_memory=True\n",
        ")\n",
        "\n",
        "# Enhanced Model Architecture with EfficientNet-B3\n",
        "class BoneDensityModel(nn.Module):\n",
        "    def __init__(self, num_classes=3):\n",
        "        super().__init__()\n",
        "        # Using EfficientNet-B3 with proper feature extraction\n",
        "        self.backbone = timm.create_model('efficientnet_b3', pretrained=True)\n",
        "\n",
        "        # Freeze first 50% of the model\n",
        "        num_layers = len(list(self.backbone.parameters()))\n",
        "        for i, (name, param) in enumerate(self.backbone.named_parameters()):\n",
        "            if i < num_layers * 0.5:\n",
        "                param.requires_grad = False\n",
        "\n",
        "        # Get number of features from the backbone\n",
        "        num_features = self.backbone.classifier.in_features\n",
        "\n",
        "        # Replace classifier with custom head\n",
        "        self.backbone.classifier = nn.Sequential(\n",
        "            nn.Dropout(p=config.DROPOUT_RATE),\n",
        "            nn.Linear(num_features, 512),\n",
        "            nn.SiLU(),\n",
        "            nn.BatchNorm1d(512),\n",
        "            nn.Dropout(p=config.DROPOUT_RATE/2),\n",
        "            nn.Linear(512, num_classes)\n",
        "        )\n",
        "\n",
        "    def forward(self, x):\n",
        "        return self.backbone(x)\n",
        "\n",
        "# Initialize model\n",
        "device = torch.device('cuda' if torch.cuda.is_available() else 'cpu')\n",
        "model = BoneDensityModel(num_classes=config.NUM_CLASSES).to(device)\n",
        "\n",
        "# Label Smoothing Cross Entropy Loss\n",
        "class LabelSmoothingCrossEntropy(nn.Module):\n",
        "    def __init__(self, smoothing=0.1):\n",
        "        super().__init__()\n",
        "        self.smoothing = smoothing\n",
        "\n",
        "    def forward(self, x, target):\n",
        "        log_probs = torch.nn.functional.log_softmax(x, dim=-1)\n",
        "        nll_loss = -log_probs.gather(dim=-1, index=target.unsqueeze(1))\n",
        "        nll_loss = nll_loss.squeeze(1)\n",
        "        smooth_loss = -log_probs.mean(dim=-1)\n",
        "        loss = (1 - self.smoothing) * nll_loss + self.smoothing * smooth_loss\n",
        "        return loss.mean()\n",
        "\n",
        "# Calculate class weights\n",
        "class_weights = torch.tensor([\n",
        "    1.0 / (class_counts[1][0] + 1e-6),\n",
        "    1.0 / (class_counts[1][1] + 1e-6),\n",
        "    1.0 / (class_counts[1][2] + 1e-6)\n",
        "], device=device, dtype=torch.float32)  # Ensure weights are float32\n",
        "class_weights = class_weights / class_weights.sum()\n",
        "\n",
        "# Optimizer with weight decay\n",
        "optimizer = optim.AdamW(\n",
        "    model.parameters(),\n",
        "    lr=config.LEARNING_RATE,\n",
        "    weight_decay=config.WEIGHT_DECAY\n",
        ")\n",
        "\n",
        "# Learning rate scheduler\n",
        "scheduler = CosineAnnealingWarmRestarts(\n",
        "    optimizer,\n",
        "    T_0=10,\n",
        "    T_mult=1,\n",
        "    eta_min=1e-6\n",
        ")\n",
        "\n",
        "# Loss functions\n",
        "criterion = LabelSmoothingCrossEntropy(smoothing=0.1)\n",
        "focal_criterion = nn.CrossEntropyLoss(weight=class_weights)\n",
        "\n",
        "# Training function\n",
        "def train_epoch(model, loader, optimizer, criterion, focal_criterion, scaler):\n",
        "    model.train()\n",
        "    running_loss = 0.0\n",
        "    correct = 0\n",
        "    total = 0\n",
        "\n",
        "    for images, labels in tqdm(loader, desc=\"Training\"):\n",
        "        images = images.to(device, dtype=torch.float32)  # Ensure input is float32\n",
        "        labels = labels.to(device)\n",
        "\n",
        "        optimizer.zero_grad()\n",
        "\n",
        "        with autocast():\n",
        "            outputs = model(images)\n",
        "            loss = 0.7 * criterion(outputs, labels) + 0.3 * focal_criterion(outputs, labels)\n",
        "\n",
        "        scaler.scale(loss).backward()\n",
        "        scaler.unscale_(optimizer)\n",
        "        torch.nn.utils.clip_grad_norm_(model.parameters(), max_norm=1.0)\n",
        "        scaler.step(optimizer)\n",
        "        scaler.update()\n",
        "\n",
        "        running_loss += loss.item()\n",
        "        _, predicted = outputs.max(1)\n",
        "        total += labels.size(0)\n",
        "        correct += predicted.eq(labels).sum().item()\n",
        "\n",
        "    scheduler.step()\n",
        "    return running_loss / len(loader), correct / total\n",
        "\n",
        "# Validation function\n",
        "def validate(model, loader, criterion, focal_criterion, tta_loader=None):\n",
        "    model.eval()\n",
        "    running_loss = 0.0\n",
        "    correct = 0\n",
        "    total = 0\n",
        "    all_preds = []\n",
        "    all_labels = []\n",
        "\n",
        "    with torch.no_grad():\n",
        "        for images, labels in tqdm(loader, desc=\"Validating\"):\n",
        "            images = images.to(device, dtype=torch.float32)  # Ensure input is float32\n",
        "            labels = labels.to(device)\n",
        "\n",
        "            with autocast():\n",
        "                outputs = model(images)\n",
        "                loss = 0.7 * criterion(outputs, labels) + 0.3 * focal_criterion(outputs, labels)\n",
        "\n",
        "            running_loss += loss.item()\n",
        "            _, predicted = outputs.max(1)\n",
        "            total += labels.size(0)\n",
        "            correct += predicted.eq(labels).sum().item()\n",
        "            all_preds.extend(predicted.cpu().numpy())\n",
        "            all_labels.extend(labels.cpu().numpy())\n",
        "\n",
        "    val_loss = running_loss / len(loader)\n",
        "    val_acc = correct / total\n",
        "    f1 = f1_score(all_labels, all_preds, average='weighted')\n",
        "\n",
        "    # TTA validation\n",
        "    tta_acc = None\n",
        "    tta_f1 = None\n",
        "    if tta_loader:\n",
        "        tta_correct = 0\n",
        "        tta_total = 0\n",
        "        tta_preds = []\n",
        "        tta_labels = []\n",
        "\n",
        "        with torch.no_grad():\n",
        "            for images, label in tqdm(tta_loader, desc=\"TTA Validating\"):\n",
        "                label = label.to(device)\n",
        "                outputs = []\n",
        "\n",
        "                for img in images[0]:\n",
        "                    img = img.unsqueeze(0).to(device, dtype=torch.float32)  # Ensure input is float32\n",
        "                    with autocast():\n",
        "                        output = model(img)\n",
        "                    outputs.append(output)\n",
        "\n",
        "                avg_output = torch.mean(torch.stack(outputs), dim=0)\n",
        "                _, predicted = avg_output.max(1)\n",
        "\n",
        "                tta_total += 1\n",
        "                tta_correct += predicted.eq(label).sum().item()\n",
        "                tta_preds.append(predicted.cpu().numpy()[0])\n",
        "                tta_labels.append(label.cpu().numpy()[0])\n",
        "\n",
        "        tta_acc = tta_correct / tta_total\n",
        "        tta_f1 = f1_score(tta_labels, tta_preds, average='weighted')\n",
        "\n",
        "    return val_loss, val_acc, f1, tta_acc, tta_f1\n",
        "\n",
        "# Training loop\n",
        "best_val_acc = 0.0\n",
        "patience_counter = 0\n",
        "scaler = GradScaler()\n",
        "\n",
        "history = {\n",
        "    'train_loss': [],\n",
        "    'train_acc': [],\n",
        "    'val_loss': [],\n",
        "    'val_acc': [],\n",
        "    'val_f1': [],\n",
        "    'tta_acc': [],\n",
        "    'tta_f1': []\n",
        "}\n",
        "\n",
        "for epoch in range(config.NUM_EPOCHS):\n",
        "    train_loss, train_acc = train_epoch(model, train_loader, optimizer, criterion, focal_criterion, scaler)\n",
        "    val_loss, val_acc, val_f1, tta_acc, tta_f1 = validate(model, val_loader, criterion, focal_criterion, tta_val_loader)\n",
        "\n",
        "    history['train_loss'].append(train_loss)\n",
        "    history['train_acc'].append(train_acc)\n",
        "    history['val_loss'].append(val_loss)\n",
        "    history['val_acc'].append(val_acc)\n",
        "    history['val_f1'].append(val_f1)\n",
        "    if tta_acc:\n",
        "        history['tta_acc'].append(tta_acc)\n",
        "        history['tta_f1'].append(tta_f1)\n",
        "\n",
        "    print(f\"\\nEpoch {epoch+1}/{config.NUM_EPOCHS}:\")\n",
        "    print(f\"Train Loss: {train_loss:.4f} | Train Acc: {train_acc:.2%}\")\n",
        "    print(f\"Val Loss: {val_loss:.4f} | Val Acc: {val_acc:.2%} | Val F1: {val_f1:.4f}\")\n",
        "    if tta_acc:\n",
        "        print(f\"TTA Val Acc: {tta_acc:.2%} | TTA F1: {tta_f1:.4f}\")\n",
        "\n",
        "    current_acc = tta_acc if tta_acc else val_acc\n",
        "    if current_acc > best_val_acc:\n",
        "        best_val_acc = current_acc\n",
        "        patience_counter = 0\n",
        "        torch.save({\n",
        "            'epoch': epoch,\n",
        "            'model_state_dict': model.state_dict(),\n",
        "            'optimizer_state_dict': optimizer.state_dict(),\n",
        "            'loss': val_loss,\n",
        "            'accuracy': best_val_acc\n",
        "        }, '/content/best_model.pth')\n",
        "        print(\"Saved new best model\")\n",
        "    else:\n",
        "        patience_counter += 1\n",
        "        if patience_counter >= config.EARLY_STOPPING_PATIENCE:\n",
        "            print(f\"Early stopping at epoch {epoch+1}\")\n",
        "            break\n",
        "\n",
        "# Plot training history\n",
        "plt.figure(figsize=(12, 5))\n",
        "plt.subplot(1, 2, 1)\n",
        "plt.plot(history['train_loss'], label='Train Loss')\n",
        "plt.plot(history['val_loss'], label='Val Loss')\n",
        "plt.title('Loss over Epochs')\n",
        "plt.legend()\n",
        "\n",
        "plt.subplot(1, 2, 2)\n",
        "plt.plot(history['train_acc'], label='Train Acc')\n",
        "plt.plot(history['val_acc'], label='Val Acc')\n",
        "if 'tta_acc' in history:\n",
        "    plt.plot(history['tta_acc'], label='TTA Val Acc')\n",
        "plt.title('Accuracy over Epochs')\n",
        "plt.legend()\n",
        "plt.show()\n",
        "\n",
        "# Load best model\n",
        "checkpoint = torch.load('/content/best_model.pth')\n",
        "model.load_state_dict(checkpoint['model_state_dict'])\n",
        "model.eval()\n",
        "\n",
        "# Evaluation function\n",
        "def evaluate_model(model, loader, tta_loader=None, set_name=\"Validation\"):\n",
        "    model.eval()\n",
        "    all_preds = []\n",
        "    all_labels = []\n",
        "\n",
        "    with torch.no_grad():\n",
        "        for images, labels in tqdm(loader, desc=f\"Evaluating {set_name}\"):\n",
        "            images = images.to(device, dtype=torch.float32)  # Ensure input is float32\n",
        "            with autocast():\n",
        "                outputs = model(images)\n",
        "            _, preds = torch.max(outputs, 1)\n",
        "            all_preds.extend(preds.cpu().numpy())\n",
        "            all_labels.extend(labels.numpy())\n",
        "\n",
        "    acc = accuracy_score(all_labels, all_preds)\n",
        "    f1 = f1_score(all_labels, all_preds, average='weighted')\n",
        "\n",
        "    print(f\"\\nStandard {set_name} Set Evaluation:\")\n",
        "    print(f\"Accuracy: {acc:.2%}\")\n",
        "    print(f\"F1 Score: {f1:.4f}\")\n",
        "    print(\"\\nClassification Report:\")\n",
        "    print(classification_report(all_labels, all_preds, target_names=config.CLASSES, zero_division=0, digits=4))\n",
        "    print(\"\\nConfusion Matrix:\")\n",
        "    print(confusion_matrix(all_labels, all_preds))\n",
        "\n",
        "    if tta_loader:\n",
        "        tta_preds = []\n",
        "        tta_labels = []\n",
        "\n",
        "        with torch.no_grad():\n",
        "            for images, label in tqdm(tta_loader, desc=f\"TTA {set_name}\"):\n",
        "                label = label.to(device)\n",
        "                outputs = []\n",
        "\n",
        "                for img in images[0]:\n",
        "                    img = img.unsqueeze(0).to(device, dtype=torch.float32)  # Ensure input is float32\n",
        "                    with autocast():\n",
        "                        output = model(img)\n",
        "                    outputs.append(output)\n",
        "\n",
        "                avg_output = torch.mean(torch.stack(outputs), dim=0)\n",
        "                _, predicted = avg_output.max(1)\n",
        "                tta_preds.append(predicted.cpu().numpy()[0])\n",
        "                tta_labels.append(label.cpu().numpy()[0])\n",
        "\n",
        "        tta_acc = accuracy_score(tta_labels, tta_preds)\n",
        "        tta_f1 = f1_score(tta_labels, tta_preds, average='weighted')\n",
        "\n",
        "        print(f\"\\nTTA {set_name} Set Evaluation:\")\n",
        "        print(f\"Accuracy: {tta_acc:.2%}\")\n",
        "        print(f\"F1 Score: {tta_f1:.4f}\")\n",
        "        print(\"\\nClassification Report:\")\n",
        "        print(classification_report(tta_labels, tta_preds, target_names=config.CLASSES, zero_division=0, digits=4))\n",
        "        print(\"\\nConfusion Matrix:\")\n",
        "        print(confusion_matrix(tta_labels, tta_preds))\n",
        "\n",
        "        return tta_acc\n",
        "    return acc\n",
        "\n",
        "print(\"\\n=== Final Evaluation ===\")\n",
        "train_acc = evaluate_model(model, train_loader, set_name=\"Training\")\n",
        "val_acc = evaluate_model(model, val_loader, tta_val_loader, \"Validation\")\n",
        "\n",
        "print(\"\\n=== PROCESS COMPLETED SUCCESSFULLY ===\")\n",
        "print(f\"Final Validation Accuracy: {val_acc:.2%}\")"
      ]
    }
  ]
}